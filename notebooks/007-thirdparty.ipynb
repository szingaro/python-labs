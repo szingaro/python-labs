{
 "cells": [
  {
   "cell_type": "markdown",
   "metadata": {},
   "source": [
    "# Lab 7: Third Party Libraries"
   ]
  },
  {
   "cell_type": "markdown",
   "metadata": {},
   "source": [
    "## Overview\n",
    "\n",
    "Today, you'll get a chance in groups to build a larger project which uses the `requests` package!"
   ]
  },
  {
   "cell_type": "markdown",
   "metadata": {},
   "source": [
    "## Reading\n",
    "\n",
    "As a reminder, the packages discussed in class are listed below along with some useful links. Read through the ones that you would like to learn more about, or jump straight into building a [Reddit Wallpaper Scraper](https://github.com/stanfordpython/python-assignments/tree/master/old/wallscraper)."
   ]
  },
  {
   "cell_type": "markdown",
   "metadata": {},
   "source": [
    "### Standard Packages\n",
    "\n",
    "* requests: [Quick Start](http://docs.python-requests.org/en/master/user/quickstart/)\n",
    "* numpy: [Quick Start](https://docs.scipy.org/doc/numpy/user/quickstart.html)\n",
    "* scipy: [Reference](https://docs.scipy.org/doc/scipy/reference/index.html)\n",
    "* matplotlib/pyplot: [PyPlot Tutorial](https://matplotlib.org/users/pyplot_tutorial.html) + [Gallery](https://matplotlib.org/gallery.html)\n",
    "* scikit-learn: [Tutorial](https://scikit-learn.org/stable/tutorial/)\n",
    "* nltk: [Overview](http://www.nltk.org/) + [API Docs](http://www.nltk.org/api/nltk.html)\n",
    "* pycodestyle: [Intro](https://pep8.readthedocs.io/en/latest/intro.html)\n",
    "* autopep8: [Overview](https://pypi.org/project/autopep8/)\n",
    "* flask: [Quick Start](http://flask.pocoo.org/docs/quickstart/) + [Mega-Tutorial](http://blog.miguelgrinberg.com/post/the-flask-mega-tutorial-part-i-hello-world)\n",
    "* django: [Overview](https://www.djangoproject.com/start/overview/) + [Quick Start](https://www.djangoproject.com/start/) + [Tutorial](https://docs.djangoproject.com/en/2.1/intro/tutorial01/)"
   ]
  },
  {
   "cell_type": "markdown",
   "metadata": {},
   "source": [
    "### Other Packages I Like\n",
    "\n",
    "* Pillow - better image processing\n",
    "* twisted - event-driven network programming framework\n",
    "* selenium - Automated web client \n",
    "* dateutil - better date/time handling\n",
    "* SQLAlchemy - Build objects on top of database schemas\n",
    "* bcrypt - Cryptography suite\n",
    "* scrapy - Web scraping\n",
    "* pandas - Vectorized data manipulation\n",
    "* boto - Python interface to Amazon Web Services.\n",
    "* PyEphem - Track planets and satellites.\n",
    "* Basemap - Plot 2D data on maps.\n",
    "* praw - Play with reddit's API, write a reddit bot.\n",
    "* robobrowser - automate web tasks\n",
    "* mechanize - automate web tasks\n",
    "* networkx - visualize small graphs\n",
    "* BeautifulSoup - rapidly prototype HTML parsers\n",
    "* pygame and pyglet - prototyping games\n",
    "* tornado - web framework and asynchronous web framework\n",
    "* cyclone - web server framework connecting tornado and twisted\n",
    "* fabric - Automate interactions with remote servers.\n",
    "* Scrapy - Web scraping/Web crawling framework\n",
    "* Pattern - Web mining\n",
    "* rstr and exrex - Random string generation/regex reversing.\n",
    "* autobahn - web sockets\n",
    "* peewee - simple ORM for databases\n",
    "* sh - Python bindings for unix commands\n",
    "* celery - asynchronous task queue\n",
    "* py2app / py2exe - create standalone Mac OS X app / windows executable\n",
    "* delorean - friendly dates/times\n",
    "* docutils - documentation utilities\n",
    "* colorama - terminal colors\n",
    "* wxpython and pyqt and pygtk - gui toolkits for python\n",
    "* scapy - packet sniffer and analyzer\n",
    "* pywin32 - simplifies common interactions with Windows\n",
    "* nose - testing framework\n",
    "* SymPy - symbolic manipulation including algebraic evaluation, differentiation, expansion\n",
    "* whoosh - full text indexing, search, and spell checking\n",
    "* fuzzywuzzy - fuzzy string matching library\n",
    "* progressbar - easy ASCII progress bars\n",
    "* retrying - easily retry failed operations\n",
    "* phonenumbers - easy to work with phone numbers\n",
    "* gensim - feature vectors for humans\n",
    "* tensorflow - Google's machine intelligence\n",
    "* pytorch - deep learning made easier\n",
    "* sphinx - documentation generation\n",
    "\n",
    "For more, check out [awesome-python](https://github.com/vinta/awesome-python#awesome-python), which is a \"curated list of awesome Python frameworks, libraries, software and resources.\""
   ]
  },
  {
   "cell_type": "markdown",
   "metadata": {},
   "source": [
    "> With <3 by @szingaro"
   ]
  }
 ],
 "metadata": {
  "kernelspec": {
   "display_name": "Python 3",
   "language": "python",
   "name": "python3"
  },
  "language_info": {
   "codemirror_mode": {
    "name": "ipython",
    "version": 3
   },
   "file_extension": ".py",
   "mimetype": "text/x-python",
   "name": "python",
   "nbconvert_exporter": "python",
   "pygments_lexer": "ipython3",
   "version": "3.7.2"
  }
 },
 "nbformat": 4,
 "nbformat_minor": 2
}
