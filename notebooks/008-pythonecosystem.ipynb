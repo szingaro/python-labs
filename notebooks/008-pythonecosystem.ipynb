{
 "cells": [
  {
   "cell_type": "markdown",
   "metadata": {},
   "source": [
    "# Lab 8: The Python Ecosystem"
   ]
  },
  {
   "cell_type": "markdown",
   "metadata": {},
   "source": [
    "## Overview\n",
    "\n",
    "Today is dedicated for you to work on your final projects, so this lab is just a placeholder.\n",
    "\n",
    "If you haven't yet voted, please vote [on Piazza (@45)](https://piazza.com/class/jpx06y0oayu32k?cid=45) for the advanced topics you'd like to learn more about next lecture.\n",
    "\n",
    "Besides that, you're free to work on your final project. Wave down a course staff member if you're stuck at any part of the process! We're here to help."
   ]
  },
  {
   "cell_type": "markdown",
   "metadata": {},
   "source": [
    "> With <3 by @sredmond"
   ]
  }
 ],
 "metadata": {
  "kernelspec": {
   "display_name": "Python 3",
   "language": "python",
   "name": "python3"
  },
  "language_info": {
   "codemirror_mode": {
    "name": "ipython",
    "version": 3
   },
   "file_extension": ".py",
   "mimetype": "text/x-python",
   "name": "python",
   "nbconvert_exporter": "python",
   "pygments_lexer": "ipython3",
   "version": "3.7.2"
  }
 },
 "nbformat": 4,
 "nbformat_minor": 2
}
