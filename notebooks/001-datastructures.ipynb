{
 "cells": [
  {
   "cell_type": "markdown",
   "metadata": {},
   "source": [
    "# Lab 1"
   ]
  },
  {
   "cell_type": "markdown",
   "metadata": {},
   "source": [
    "## Overview\n",
    "\n",
    "Welcome to your first (or perhaps second) lab! Labs are designed to be your opportunity to experiment with Python and gain hands-on experience with the language.\n",
    "\n",
    "The primary goal of the first half is to ensure that your Python installation process went smoothly, and that there are no lingering Python installation bugs floating around.\n",
    "\n",
    "The second half focuses more on using data structures to solve some interesting problems.\n",
    "\n",
    "You're welcome to work in groups or individually.\n",
    "\n",
    "**Note: These labs are *designed* to be long! You shouldn't be able to finish all the problems in one class period. Work through as much as you can in the time allotted, but also feel free to skip from question to question freely. The extra problems are intended to be extra practice, if you want to hone your Python skills even more.**\n",
    "\n",
    "Above all, have fun playing with Python! Enjoy.\n",
    "\n",
    "### Running this notebook\n",
    "\n",
    "To run a Jupyter notebook, first change directories (`cd`) to wherever you've downloaded the notebook. Then, from a command line run:\n",
    "\n",
    "```bash\n",
    "$ jupyter lab\n",
    "```\n",
    "\n",
    "You might need to `pip install jupyterlab` from within if you haven't yet. "
   ]
  },
  {
   "cell_type": "markdown",
   "metadata": {},
   "source": [
    "## Zen of Python\n",
    "\n",
    "Run the following code cell by selecting the cell and pressing Shift+Enter."
   ]
  },
  {
   "cell_type": "code",
   "execution_count": null,
   "metadata": {},
   "outputs": [],
   "source": [
    "import this"
   ]
  },
  {
   "cell_type": "markdown",
   "metadata": {},
   "source": [
    "## Hello World\n",
    "\n",
    "Edit the following cell so that it prints `\"Hello, world!\"` when executed, and then run the cell to confirm."
   ]
  },
  {
   "cell_type": "code",
   "execution_count": null,
   "metadata": {},
   "outputs": [],
   "source": [
    "print(\"Hello, world!\")"
   ]
  },
  {
   "cell_type": "markdown",
   "metadata": {},
   "source": [
    "## Warming Up"
   ]
  },
  {
   "cell_type": "markdown",
   "metadata": {},
   "source": [
    "### Fizz, Buzz, FizzBuzz!\n",
    "If we list all of the natural numbers under 41 that are a multiple of 3 or 5, we get\n",
    "\n",
    "```\n",
    " 3,  5,  6,  9, 10, 12, 15,\n",
    "18, 20, 21, 24, 25, 27, 30,\n",
    "33, 35, 36, 39, 40\n",
    "```\n",
    "\n",
    "The sum of these numbers is 408.\n",
    "\n",
    "Find the sum of all the multiples of 3 or 5 below 1001. As a sanity check, the last two digits of the sum should be `68`."
   ]
  },
  {
   "cell_type": "markdown",
   "metadata": {},
   "source": [
    "def fizzbuzz(n):\n",
    "    \"\"\"Returns the sum of all numbers less than n divisible by 3 or 5.\"\"\"\n",
    "    total_sum = 0\n",
    "    for i in range(1,n):\n",
    "        remainder_3 = i % 3\n",
    "        remainder_5 = i % 5\n",
    "        if remainder_3 == 0 or remainder_5 == 0:\n",
    "            total_sum += i\n",
    "        \n",
    "    return total_sum\n",
    "\n",
    "print(fizzbuzz(41))  # => 408\n",
    "print(fizzbuzz(1001))"
   ]
  },
  {
   "cell_type": "markdown",
   "metadata": {},
   "source": [
    "### Collatz Sequence\n",
    "Depending on from whom you took math class, you may have seen this problem before.\n",
    "\n",
    "The *Collatz sequence* is an iterative sequence defined on the positive integers by:\n",
    "\n",
    "```\n",
    "n -> n / 2    if n is even\n",
    "n -> 3n + 1   if n is odd\n",
    "```\n",
    "\n",
    "For example, using the rule above and starting with 13 yields the sequence:\n",
    "\n",
    "```\n",
    "13 -> 40 -> 20 -> 10 -> 5 -> 16 -> 8 -> 4 -> 2 -> 1\n",
    "```\n",
    "\n",
    "It can be seen that this sequence (starting at 13 and finishing at 1) contains 10 terms. Although unproven, it it hypothesized that all starting numbers finish at 1.\n",
    "\n",
    "What is the length of the longest chain which has a starting number under 1000?\n",
    "\n",
    "*NOTE: Once the chain starts the terms are allowed to go above one thousand.*\n",
    "\n",
    "Challenge: Same question, but for any starting number under 1,000,000. What about for any starting number under 10,000,000? You may need to implement a cleverer-than-naive algorithm."
   ]
  },
  {
   "cell_type": "code",
   "execution_count": null,
   "metadata": {},
   "outputs": [],
   "source": [
    "def collatz_len(n):\n",
    "    \"\"\"Computes the length of the Collatz sequence starting at n.\"\"\"\n",
    "    t = (n,)\n",
    "    while n != 1:\n",
    "        if n % 2 == 0:\n",
    "            next_n = n / 2        \n",
    "        else:\n",
    "            next_n = (3 * n) + 1\n",
    "        n = next_n\n",
    "        t = t + (next_n,)\n",
    "    \n",
    "    print(t)\n",
    "    return len(t)\n",
    "\n",
    "def max_collatz_len(n):\n",
    "    \"\"\"Computes the longest Collatz sequence length for starting numbers less than n\"\"\"\n",
    "    pass\n",
    "\n",
    "print(collatz_len(13))  # => 10\n",
    "print(max_collatz_len(1000))\n",
    "\n",
    "# Challenge: Only attempt to solve these if you feel very comfortable with this material.\n",
    "print(max_collatz_len(1000000))\n",
    "print(max_collatz_len(100000000))\n"
   ]
  },
  {
   "cell_type": "markdown",
   "metadata": {},
   "source": [
    "### Fahrenheit-to-Celsius converter\n",
    "Write a program to convert degrees Fahrenheit to degrees Celcius by (1) asking the user for a number (not necessarily integral) representing the current temperature in degrees Fahrenheit, (2) converting that value into the equivalent degrees Celsius, and (3) printing the final equivalent value.\n",
    "\n",
    "For example, your program should be able to emulate the following sample run:\n",
    "\n",
    "```\n",
    "Temperature F? 212\n",
    "It is 100.0 degrees Celsius.\n",
    "\n",
    "Temperature F? 98.6\n",
    "It is 37.0 degrees Celsius.\n",
    "\n",
    "Temperature F? 10\n",
    "It is -12.222222222222221 degrees Celsius.\n",
    "```\n",
    "\n",
    "Want to be fancy (challenge)? Try to print the final temperature to two decimal places. For example, in the last case above we would print `-12.22` instead of `-12.222222222222221`. *Hint: Take a look at the [`round()`](https://docs.python.org/3/library/functions.html#round) function. Isn't Python great?*"
   ]
  },
  {
   "cell_type": "code",
   "execution_count": null,
   "metadata": {},
   "outputs": [],
   "source": [
    "def convert_fahr_to_cels(deg_fahr):\n",
    "    \"\"\"Convert a temperature given in degrees Fahrenheit to degrees Celcius.\"\"\"\n",
    "    pass\n",
    "\n",
    "def convert():\n",
    "    \"\"\"Ask the user for a temperature in degrees Fahrenheir, and print out the temperature in degrees Celsius.\"\"\"\n",
    "    pass"
   ]
  },
  {
   "cell_type": "markdown",
   "metadata": {},
   "source": [
    "## Bonus Challenges\n",
    "\n",
    "Don't worry about doing these bonus problems. In most cases, bonus questions ask you to think more critically or use more advanced algorithms.\n",
    "\n",
    "In this case, we'll investigate advanced forms of printing and then reflect on Pythonic design."
   ]
  },
  {
   "cell_type": "markdown",
   "metadata": {},
   "source": [
    "### Zen Printing\n",
    "\n",
    "Write a program using `print()` that, when run, prints out a tic-tac-toe board.\n",
    "\n",
    "```\n",
    " X | . | . \n",
    "-----------\n",
    " . | O | . \n",
    "-----------\n",
    " . | O | X \n",
    "```\n",
    "\n",
    "You may find the optional arguments to `print()` useful, which you can read about [here](https://docs.python.org/3/library/functions.html#print). In no more than five minutes, try to use these optional arguments to print out this particular tic-tac-toe board."
   ]
  },
  {
   "cell_type": "code",
   "execution_count": null,
   "metadata": {},
   "outputs": [],
   "source": [
    "# Print a tic-tac-toe board using optional arguments.\n",
    "def print_tictactoe():\n",
    "    \"\"\"Print out a specific partially-filled tic-tac-toe board.\"\"\"\n",
    "    pass"
   ]
  },
  {
   "cell_type": "markdown",
   "metadata": {},
   "source": [
    "Maybe you were able to print out the tic-tac-toe board. Maybe not. In the five minutes you've been working on that, I've gotten bored with normal tic-tac-toe (too many ties!) so now, I want to play SUPER tic-tac-toe.\n",
    "\n",
    "Write a program that prints out a SUPER tic-tac-toe board.\n",
    "\n",
    "```\n",
    "  |  |  H  |  |  H  |  |  \n",
    "--+--+--H--+--+--H--+--+--\n",
    "  |  |  H  |  |  H  |  |  \n",
    "--+--+--H--+--+--H--+--+--\n",
    "  |  |  H  |  |  H  |  |  \n",
    "========+========+========\n",
    "  |  |  H  |  |  H  |  |  \n",
    "--+--+--H--+--+--H--+--+--\n",
    "  |  |  H  |  |  H  |  |  \n",
    "--+--+--H--+--+--H--+--+--\n",
    "  |  |  H  |  |  H  |  |  \n",
    "========+========+========\n",
    "  |  |  H  |  |  H  |  |  \n",
    "--+--+--H--+--+--H--+--+--\n",
    "  |  |  H  |  |  H  |  |  \n",
    "--+--+--H--+--+--H--+--+--\n",
    "  |  |  H  |  |  H  |  |  \n",
    "```\n",
    "\n",
    "You'll find that there might be many ways to solve this problem. Which do you think is the most 'pythonic?' Talk to someone next to you about your approach to this problem. Remember the Zen of Python!"
   ]
  },
  {
   "cell_type": "code",
   "execution_count": null,
   "metadata": {},
   "outputs": [],
   "source": [
    "def print_super_tictactoe():\n",
    "    \"\"\"Print an empty SUPER tic-tac-toe board.\"\"\"\n",
    "    pass"
   ]
  },
  {
   "cell_type": "markdown",
   "metadata": {},
   "source": [
    "## Investigating Data Structures\n",
    "\n",
    "*[Optional Reading on Standard Types - check out Sequence types and Mapping types](https://docs.python.org/3/library/stdtypes.html)*"
   ]
  },
  {
   "cell_type": "markdown",
   "metadata": {},
   "source": [
    "### Lists\n",
    "Predict what the following lines of Python will do. Then, run the code block below to see if they match what you expect:\n",
    "\n",
    "```Python\n",
    "s = [0] * 3\n",
    "print(s)\n",
    "s[0] += 1\n",
    "print(s)\n",
    "\n",
    "s = [''] * 3\n",
    "print(s)\n",
    "s[0] += 'a'\n",
    "print(s)\n",
    "\n",
    "s = [[]] * 3\n",
    "print(s)\n",
    "s[0] += [1]\n",
    "print(s)\n",
    "```"
   ]
  },
  {
   "cell_type": "code",
   "execution_count": null,
   "metadata": {},
   "outputs": [],
   "source": [
    "# Explore the elements of lists. Is the output what you expect?\n",
    "s = [0] * 3\n",
    "print(s)\n",
    "s[0] += 1\n",
    "print(s)\n",
    "\n",
    "s = [''] * 3\n",
    "print(s)\n",
    "s[0] += 'a'\n",
    "print(s)\n",
    "\n",
    "s = [[]] * 3\n",
    "print(s)\n",
    "s[0] += [1]\n",
    "print(s)"
   ]
  },
  {
   "cell_type": "markdown",
   "metadata": {},
   "source": [
    "Why is this happening? Consider using the `id` function to investigate further. What happens when we replace the second-to-last line with `s[0] = s[0] + [1]`? What if we replace the line with `s[0].append(1)`?"
   ]
  },
  {
   "cell_type": "markdown",
   "metadata": {},
   "source": [
    "Write a function to verify `if` a list is ordered with increasing numbers ($\\leqslant$). \n",
    "\n",
    "You can assume that the list contains only numbers that can be ordered."
   ]
  },
  {
   "cell_type": "code",
   "execution_count": null,
   "metadata": {},
   "outputs": [],
   "source": [
    "def ordered_list(L):\n",
    "    \"\"\"Verify id a given list L is increasingly ordered.\"\"\"\n",
    "    for i in range(1,len(L)):\n",
    "        if L[i] < L[i-1]:\n",
    "            return False\n",
    "    return True\n",
    "    \n",
    "print(ordered_list([10000,12,3,2,5,6])) # => False\n",
    "print(ordered_list([2,3,5,6,12,10000])) # => True"
   ]
  },
  {
   "cell_type": "markdown",
   "metadata": {},
   "source": [
    "#### Matrices"
   ]
  },
  {
   "cell_type": "markdown",
   "metadata": {},
   "source": [
    "Write a function to \"pretty print\" a matrix `M`, taken as parameter. You can use `print(e, end='\\t')` to print a line that end with a `tab` character.\n",
    "\n",
    "You can assume that the matrix is well-defined.\n",
    "\n",
    "```python\n",
    ">>> M = [[10000,12],[3,2],[5,6]]\n",
    ">>> pretty_print_matrix(M)\n",
    ">>> ...\n",
    "    10000 12 \n",
    "    3     2 \n",
    "    5     6\n",
    "    ...\n",
    "```"
   ]
  },
  {
   "cell_type": "code",
   "execution_count": null,
   "metadata": {},
   "outputs": [],
   "source": [
    "def pretty_print_matrix(M):\n",
    "    \"\"\"Pretty print a matrix M.\"\"\"\n",
    "    rows = len(M)\n",
    "    columns = len(M[0])\n",
    "    for i in range(rows):\n",
    "        for j in range(columns):\n",
    "            print(M[i][j], end='\\t')\n",
    "        print()\n",
    "    \n",
    "pretty_print_matrix([[10000,12],[3,2],[5,6]]) \n",
    "# => 10000 12 \n",
    "#    3     2 \n",
    "#    5     6\n",
    "# it is possible to print chars too, have a look!\n",
    "print(\"\\nA Matrix made of chars:\")\n",
    "pretty_print_matrix([['10000','12'],[\"3\",\"2\"],['hello', 'world']])"
   ]
  },
  {
   "cell_type": "markdown",
   "metadata": {},
   "source": [
    "Write a function to compute the transpose of a matrix `M`, taken as parameter."
   ]
  },
  {
   "cell_type": "code",
   "execution_count": null,
   "metadata": {},
   "outputs": [],
   "source": [
    "def tranpose_matrix(M):\n",
    "    \"\"\"Compute the transposed of a matrix M (new one)\"\"\"\n",
    "    MT = []\n",
    "    for row in range(len(M[0])): #rows(MT) == columns(M)\n",
    "        MT.append([]) #each row in MT is an empty list\n",
    "        for col in range(len(M)): #columns(MT) == rows(M)\n",
    "            MT[row].append(M[col][row])\n",
    "    return MT\n",
    "\n",
    "\n",
    "M = [[1,2], [3,4], [5,6]]\n",
    "print(M)\n",
    "pretty_print_matrix(M)\n",
    "print(tranpose_matrix(M)) # => [[1, 3, 5], [2, 4, 6]]\n",
    "pretty_print_matrix(tranpose_matrix(M)) "
   ]
  },
  {
   "cell_type": "markdown",
   "metadata": {},
   "source": [
    "#### Recursion on lists"
   ]
  },
  {
   "cell_type": "markdown",
   "metadata": {},
   "source": [
    "Scrivere una funzione ricorsiva ListaFibonacci(n) che restituisce una lista con la sequenza da Fibonacci(0) a Fibonacci(n), compreso. Non usare liste ausiliarie o funzioni ausiliarie.\n",
    "Es.: ListaFibonacci(10) restituirà."
   ]
  },
  {
   "cell_type": "code",
   "execution_count": null,
   "metadata": {},
   "outputs": [],
   "source": [
    "def fibonacci(n):\n",
    "    \"\"\"\n",
    "    Compute the Fibonacci sequence, return a list with the sequence from fibonacci(0) to fibonacci(n).\n",
    "    Remember that:\n",
    "                      --- 0                                        if n == 0\n",
    "                    /\n",
    "    fibonacci(n) =  ----- 1                                        if n == 1\n",
    "                    \\\n",
    "                      --- fibonacci(n - 1) + fibonacci(n - 2)      if n > 1\n",
    "    \"\"\"\n",
    "    if n <= 0:\n",
    "         return [] # empty list if n is 0\n",
    "    if n == 1:\n",
    "        return [1] # list containing 1 \n",
    "    if n == 2:\n",
    "        return [1,1] # list containing 1 contat to 1 \n",
    "    tmp = fibonacci(n-1)\n",
    "    L = tmp + [ tmp[ -1 ] + tmp[ -2 ] ]\n",
    "    return L\n",
    "    \n",
    "print(fibonacci(-1)) # =>  []\n",
    "print(fibonacci(0))  # =>  []\n",
    "print(fibonacci(1))  # =>  [1]\n",
    "print(fibonacci(2))  # =>  [1,1]\n",
    "print(fibonacci(10)) # =>  [0, 1, 1, 2, 3, 5, 8, 13, 21, 34]\n",
    "#print(fibonacci(2961)) # => this is the last it can compute"
   ]
  },
  {
   "cell_type": "markdown",
   "metadata": {},
   "source": [
    "### Tuples\n",
    "\n",
    "Write a function to compute the [GCD](https://en.wikipedia.org/wiki/Greatest_common_divisor) of two positive integers. You can freely use the fact that `gcd(a, b)` is mathematically equal to `gcd(b, a % b)`, and that `gcd(a, 0) == a`.\n",
    "\n",
    "You can assume that `a >= b` if you'd like.\n",
    "\n",
    "It is possible to accomplish this in three lines of Python code (or with extra cleverness, even fewer!). Consider exploiting tuple packing and unpacking!\n",
    "\n",
    "*Note: The standard library has a `gcd` function. Avoid simply importing that function and using it here - the goal is to practice with tuple packing and unpacking!*"
   ]
  },
  {
   "cell_type": "code",
   "execution_count": null,
   "metadata": {},
   "outputs": [],
   "source": [
    "def gcd(a, b):\n",
    "    \"\"\"Compute the GCD of two positive integers.\"\"\"\n",
    "    pass  # Your implementation here\n",
    "    \n",
    "gcd(10, 25) # => 5\n",
    "gcd(14, 15) # => 1\n",
    "gcd(3, 9) # => 3\n",
    "gcd(1, 1) # => 1"
   ]
  },
  {
   "cell_type": "markdown",
   "metadata": {},
   "source": [
    "### Dictionaries (advanced)\n",
    "In class, we saw a (naive) implementation of a dictionary comprehension that swaps the keys and values in a dictionary:\n",
    "\n",
    "```\n",
    "{value: key for key, value in dictionary.items()}\n",
    "```\n",
    "\n",
    "However, this approach will fail when there are two keys in the dictionary with the same value. Why will it fail?\n",
    "\n",
    "Write a function that properly reverses the keys and values of a dictionary - each key (originally a value) should map to a collection of values (originally keys) that mapped to it. For example,\n",
    "\n",
    "```\n",
    "flip_dict({\"CA\": \"US\", \"NY\": \"US\", \"ON\": \"CA\"})\n",
    "# => {\"US\": [\"CA\", \"NY\"], \"CA\": [\"ON\"]}\n",
    "```\n",
    "\n",
    "Note: there is a data structure in the `collections` module from the standard library called `defaultdict` which provides exactly this sort of functionality. You provide it a factory method for creating default values in the dictionary (in this case, a list.) You can read more about `defaultdict` and other `collections` data structures [here](https://docs.python.org/3/library/collections.html)."
   ]
  },
  {
   "cell_type": "code",
   "execution_count": null,
   "metadata": {},
   "outputs": [],
   "source": [
    "def flip_dict(input_dict):\n",
    "    \"\"\"Reverse the keys and values of a dictionary.\"\"\"\n",
    "    pass"
   ]
  },
  {
   "cell_type": "markdown",
   "metadata": {},
   "source": [
    "### Comprehensions (advanced)\n",
    "\n",
    "#### Read\n",
    "\n",
    "Predict the output of each of the following list comprehensions. After you have written down your hypothesis, run the code cell to see if you were correct. If you were incorrect, discuss with a partner why Python returns what it does.\n",
    "\n",
    "```Python\n",
    "[x for x in [1, 2, 3, 4]]\n",
    "[n - 2 for n in range(10)]\n",
    "[k % 10 for k in range(41) if k % 3 == 0]\n",
    "[s.lower() for s in ['PythOn', 'iS', 'cOoL'] if s[0] < s[-1]]\n",
    "\n",
    "# Something is fishy here. Can you spot it?\n",
    "arr = [[3,2,1], ['a','b','c'], [('do',), ['re'], 'mi']]\n",
    "print([el.append(el[0] * 4) for el in arr])  # What is printed?\n",
    "print(arr)  # What is the content of `arr` at this point?\n",
    "\n",
    "[letter for letter in \"pYthON\" if letter.isupper()]\n",
    "{len(w) for w in [\"its\", \"the\", \"remix\", \"to\", \"ignition\"]}\n",
    "```"
   ]
  },
  {
   "cell_type": "code",
   "execution_count": null,
   "metadata": {},
   "outputs": [],
   "source": [
    "# Predict the output of the following comprehensions. Does the output match what you expect?\n",
    "print([x for x in [1, 2, 3, 4]])\n",
    "print([n - 2 for n in range(10)])\n",
    "print([k % 10 for k in range(41) if k % 3 == 0])\n",
    "print([s.lower() for s in ['PythOn', 'iS', 'cOoL'] if s[0] < s[-1]])\n",
    "\n",
    "# Something is fishy here. Can you spot it?\n",
    "arr = [[3,2,1], ['a','b','c'], [('do',), ['re'], 'mi']]\n",
    "print([el.append(el[0] * 4) for el in arr])  # What is printed?\n",
    "print(arr)  # What is the content of `arr` at this point?\n",
    "\n",
    "print([letter for letter in \"pYthON\" if letter.isupper()])\n",
    "print({len(w) for w in [\"its\", \"the\", \"remix\", \"to\", \"ignition\"]})"
   ]
  },
  {
   "cell_type": "markdown",
   "metadata": {},
   "source": [
    "#### Write\n",
    "\n",
    "Write comprehensions to transform the input data structure into the output data structure:\n",
    "\n",
    "```\n",
    "[0, 1, 2, 3] -> [1, 3, 5, 7]  # Double and add one\n",
    "['apple', 'orange', 'pear'] -> ['A', 'O', 'P']  # Capitalize first letter\n",
    "['apple', 'orange', 'pear'] -> ['apple', 'pear']  # Contains a 'p'\n",
    "\n",
    "[\"TA_sam\", \"student_poohbear\", \"TA_guido\", \"student_htiek\"] -> [\"sam\", \"guido\"]\n",
    "['apple', 'orange', 'pear'] -> [('apple', 5), ('orange', 6), ('pear', 4)]\n",
    "\n",
    "['apple', 'orange', 'pear'] -> {'apple': 5, 'orange': 6, 'pear': 4}\n",
    "```"
   ]
  },
  {
   "cell_type": "code",
   "execution_count": null,
   "metadata": {},
   "outputs": [],
   "source": [
    "nums = [1, 3, 5, 7]\n",
    "fruits = ['apple', 'orange', 'pear']\n",
    "people = [\"TA_sam\", \"student_poohbear\", \"TA_guido\", \"student_htiek\"]\n",
    "\n",
    "# Add your comprehensions here!"
   ]
  },
  {
   "cell_type": "markdown",
   "metadata": {},
   "source": [
    "### Pascal's Triangle\n",
    "Write a function that generates the next level of [Pascal's triangle](https://en.wikipedia.org/wiki/Pascal%27s_triangle) given a list that represents a row of Pascal’s triangle.\n",
    "\n",
    "```\n",
    "generate_pascal_row([1, 2, 1]) -> [1, 3, 3, 1]\n",
    "generate_pascal_row([1, 4, 6, 4, 1]) -> [1, 5, 10, 10, 5, 1]\n",
    "generate_pascal_row([]) -> [1]\n",
    "```\n",
    "\n",
    "As a reminder, each element in a row of Pascal's triangle is formed by summing the two elements in the previous row directly above (to the left and right) that elements. If there is only one element directly above, we only add that one. For example, the first 5 rows of Pascal's triangle look like:\n",
    "\n",
    "```\n",
    "    1\n",
    "   1 1\n",
    "  1 2 1\n",
    " 1 3 3 1\n",
    "1 4 6 4 1\n",
    "```\n",
    "\n",
    "You may find the `zip` function discussed briefly in lecture useful, along with some cleverness. Alternatively, you could solve this problem with `enumerate`. Avoid using a loop of the form `for i in len(range(row)):`.\n",
    "\n",
    "*Hint: Check out the diagram below. How could you use this insight to help complete this problem?*\n",
    "\n",
    "```\n",
    "  0 1 3 3 1\n",
    "+ 1 3 3 1 0\n",
    "-----------\n",
    "  1 4 6 4 1\n",
    "``` "
   ]
  },
  {
   "cell_type": "code",
   "execution_count": null,
   "metadata": {},
   "outputs": [],
   "source": [
    "def generate_pascal_row(row):\n",
    "    \"\"\"Generate the next row of Pascal's triangle.\"\"\"\n",
    "    pass\n",
    "\n",
    "generate_pascal_row([1, 2, 1])  # => [1, 3, 3, 1]\n",
    "generate_pascal_row([1, 4, 6, 4, 1])  # => [1, 5, 10, 10, 5, 1]\n",
    "generate_pascal_row([])  # => [1]"
   ]
  },
  {
   "cell_type": "markdown",
   "metadata": {},
   "source": [
    "#### Pretty Printing Pascal (Optional)\n",
    "\n",
    "Given a number `n`, print out the first `n` rows of Pascal's triangle, centering each line. You should use the `generate_pascal_row` function you  wrote previously. The Pascal's triangle with 1 row just contains the number `1`.\n",
    "\n",
    "To center a string in Python, you can use the `.center(width)` method. For example:\n",
    "\n",
    "```\n",
    "\"CS\".center(10)  # => '   CS   '\n",
    "```\n",
    "\n",
    "You can even specify an optional `fillchar` to fill with characters other than spaces!\n",
    "\n",
    "The hardest part of this problem is determining the width of the bottom row of the triangle. You'll need to generate all rows of the triangle and store them before you can print any of them."
   ]
  },
  {
   "cell_type": "code",
   "execution_count": null,
   "metadata": {},
   "outputs": [],
   "source": [
    "def print_pascal_triangle(n):\n",
    "    \"\"\"Print the first n rows of Pascal's triangle.\"\"\"\n",
    "    pass"
   ]
  },
  {
   "cell_type": "markdown",
   "metadata": {},
   "source": [
    "## Special Words\n",
    "\n",
    "For each of the following problems, we describe a criterion that makes a word (or phrase!) special, similarly to our \"Efficient Words\" from lecture.\n",
    "\n",
    "If you are using macOS or Linux, you should have a dictionary file available at `/usr/share/dict/words`, a 2.5M text file containing over 200 thousand English words, one per line. However, if you are offline or windows user the file can be found at `https://stanfordpython.com/res/misc/words`, so you can download the dictionary from there.\n",
    "\n",
    "What would be an appropriate data structure in which to store the English words?\n",
    "\n",
    "Write the method `load_english` to load English words from this file. How many English words are there in this file?"
   ]
  },
  {
   "cell_type": "code",
   "execution_count": null,
   "metadata": {},
   "outputs": [],
   "source": [
    "# If you downloaded words from the course website,\n",
    "# change me to the path to the downloaded file.\n",
    "DICTIONARY_FILE = '/usr/share/dict/words'\n",
    "\n",
    "def load_english():\n",
    "    \"\"\"Load and return a collection of english words from a file.\"\"\"\n",
    "    pass\n",
    "\n",
    "english = load_english()\n",
    "print(len(english))"
   ]
  },
  {
   "cell_type": "markdown",
   "metadata": {},
   "source": [
    "### Triad Phrases\n",
    "\n",
    "Triad words are English words for which the two smaller strings you make by extracting alternating letters both form valid words.\n",
    "\n",
    "For example:\n",
    "\n",
    "![Triad Phrases](http://i.imgur.com/jGEXJWi.png)\n",
    "\n",
    "Write a function to determine whether an entire phrase passed into a function is made of triad words. You can assume that all words are made of only alphabetic characters, and are separated by whitespace. We will consider the empty string to be an invalid English word.\n",
    "\n",
    "```\n",
    "is_triad_phrase(\"learned theorem\") # => True\n",
    "is_triad_phrase(\"studied theories\") # => False\n",
    "is_triad_phrase(\"wooded agrarians\") # => True\n",
    "is_triad_phrase(\"forrested farmers\") # => False\n",
    "is_triad_phrase(\"schooled oriole\") # => True\n",
    "is_triad_phrase(\"educated small bird\") # => False\n",
    "is_triad_phrase(\"a\") # => False\n",
    "is_triad_phrase(\"\") # => False\n",
    "```\n",
    "\n",
    "Generate a list of all triad words. How many are there? We found 2770 distinct triad words (case-insensitive)."
   ]
  },
  {
   "cell_type": "code",
   "execution_count": null,
   "metadata": {},
   "outputs": [],
   "source": [
    "def is_triad_word(word, english):\n",
    "    \"\"\"Return whether a word is a triad word.\"\"\"\n",
    "    pass\n",
    "    \n",
    "def is_triad_phrase(phrase, english):\n",
    "    \"\"\"Return whether a phrase is composed of only triad words.\"\"\"\n",
    "    pass"
   ]
  },
  {
   "cell_type": "markdown",
   "metadata": {},
   "source": [
    "### Surpassing Phrases (challenge)\n",
    "\n",
    "Surpassing words are English words for which the gap between each adjacent pair of letters strictly increases. These gaps are computed without \"wrapping around\" from Z to A.\n",
    "\n",
    "For example:\n",
    "\n",
    "![Surpassing Phrases](http://i.imgur.com/XKiCnUc.png)\n",
    "\n",
    "Write a function to determine whether an entire phrase passed into a function is made of surpassing words. You can assume that all words are made of only alphabetic characters, and are separated by whitespace. We will consider the empty string and a 1-character string to be valid surpassing phrases.\n",
    "\n",
    "```python\n",
    "is_surpassing_phrase(\"superb subway\") # => True\n",
    "is_surpassing_phrase(\"excellent train\") # => False\n",
    "is_surpassing_phrase(\"porky hogs\") # => True\n",
    "is_surpassing_phrase(\"plump pigs\") # => False\n",
    "is_surpassing_phrase(\"turnip fields\") # => True\n",
    "is_surpassing_phrase(\"root vegetable lands\") # => False\n",
    "is_surpassing_phrase(\"a\") # => True\n",
    "is_surpassing_phrase(\"\") # => True\n",
    "```\n",
    "\n",
    "We've provided a `character_gap` function that returns the gap between two characters. To understand how it works, you should first learn about the Python functions `ord` (one-character string to integer ordinal) and `chr` (integer ordinal to one-character string). For example:\n",
    "\n",
    "```python\n",
    "ord('a') # => 97\n",
    "chr(97) # => 'a'\n",
    "```\n",
    "\n",
    "So, in order to find the gap between `G` and `E`, we compute `abs(ord('G') - ord('E'))`, where `abs` returns the absolute value of its argument.\n",
    "\n",
    "Generate a list of all surpassing words. How many are there? We found 1931 distinct surpassing words."
   ]
  },
  {
   "cell_type": "code",
   "execution_count": null,
   "metadata": {},
   "outputs": [],
   "source": [
    "def character_gap(ch1, ch2):\n",
    "    \"\"\"Return the absolute gap between two characters.\"\"\"\n",
    "    return abs(ord(ch1) - ord(ch2))\n",
    "\n",
    "def is_surpassing_word(word):\n",
    "    \"\"\"Return whether a word is surpassing.\"\"\"\n",
    "    pass\n",
    "\n",
    "def is_surpassing_phrase(word):\n",
    "    \"\"\"Return whether a word is surpassing.\"\"\""
   ]
  },
  {
   "cell_type": "markdown",
   "metadata": {},
   "source": [
    "### Cyclone Phrases (challenge)\n",
    "\n",
    "Cyclone words are English words that have a sequence of characters in alphabetical order when following a cyclic pattern. \n",
    "\n",
    "For example:\n",
    "\n",
    "![Cyclone Phrases](http://i.stack.imgur.com/4XBV3.png)\n",
    "\n",
    "Write a function that to determine whether an entire phrase passed into a function is made of cyclone words. You can assume that all words are made of only alphabetic characters, and are separated by whitespace.\n",
    "\n",
    "```\n",
    "is_cyclone_phrase(\"adjourned\") # => True\n",
    "is_cyclone_phrase(\"settled\") # => False\n",
    "is_cyclone_phrase(\"all alone at noon\") # => True\n",
    "is_cyclone_phrase(\"by myself at twelve pm\") # => False\n",
    "is_cyclone_phrase(\"acb\") # => True\n",
    "is_cyclone_phrase(\"\") # => True\n",
    "```\n",
    "\n",
    "Generate a list of all cyclone words. How many are there? As a sanity check, we found 769 distinct cyclone words."
   ]
  },
  {
   "cell_type": "code",
   "execution_count": null,
   "metadata": {},
   "outputs": [],
   "source": [
    "def is_cyclone_word(word):\n",
    "    \"\"\"Return whether a word is a cyclone word.\"\"\"\n",
    "    \n",
    "def is_cyclone_phrase(word):\n",
    "    \"\"\"Return whether a phrase is composed only of cyclone words.\"\"\""
   ]
  },
  {
   "cell_type": "markdown",
   "metadata": {},
   "source": [
    "### Other Phrases (challenge)\n",
    "\n",
    "On Puzzling.StackExchange, the user [JLee](https://puzzling.stackexchange.com/users/463/jlee) has come up with a ton of interesting puzzles of this form (\"I call words that follow a certain rule \"adjective\" words\"). If you like puzzles, optionally read through [these JLee puzzles](https://puzzling.stackexchange.com/search?q=%22I+call+it%22+title%3A%22what+is%22+is%3Aquestion+user%3A463) or [these other puzzles inspired by JLee](https://puzzling.stackexchange.com/search?tab=votes&q=%22what%20is%20a%22%20word%20is%3aquestion)."
   ]
  },
  {
   "cell_type": "markdown",
   "metadata": {},
   "source": [
    "### Triangle Words\n",
    "The nth term of the sequence of triangle numbers is given by 1 + 2 + ... + n = n(n+1) / 2. For example, the first ten triangle numbers are: `1, 3, 6, 10, 15, 21, 28, 36, 45, 55, ...`\n",
    "\n",
    "By converting each letter in a word to a number corresponding to its alphabetical position (`A=1`, `B=2`, etc) and adding these values we form a word value. For example, the word value for SKY is `19 + 11 + 25 = 55` and 55 is a triangle number. If the word value is a triangle number then we shall call the word a triangle word.\n",
    "\n",
    "Generate a list of all triangle words. How many are there? As a sanity check, we found 16303 distinct triangle words.\n",
    "\n",
    "*Hint: you can use `ord(ch)` to get the integer ASCII value of a character. You can also use a dictionary to accomplish this!*"
   ]
  },
  {
   "cell_type": "code",
   "execution_count": null,
   "metadata": {},
   "outputs": [],
   "source": [
    "def is_triangle_word(word):\n",
    "    \"\"\"Return whether a word is a triangle word.\"\"\"\n",
    "    pass"
   ]
  },
  {
   "cell_type": "markdown",
   "metadata": {},
   "source": [
    "## Bonus Problems\n",
    "\n",
    "*Only attempt to solve these bonus problems if you've finished the rest of the lab. Bonus problems are intentionally much harder than the other lab problems.*"
   ]
  },
  {
   "cell_type": "markdown",
   "metadata": {},
   "source": [
    "### Polygon Collision\n",
    "\n",
    "Given two polygons in the form of lists of 2-tuples, determine whether the two polygons intersect.\n",
    "\n",
    "Formally, a polygon is represented by a list of (x, y) tuples, where each (x, y) tuple is a vertex of the polygon. Edges are assumed to be between adjacent vertices in the list, and the last vertex is connected to the first. For example, the unit square would be represented by\n",
    "\n",
    "```\n",
    "square = [(0,0), (0,1), (1,1), (1,0)]\n",
    "```\n",
    "\n",
    "You can assume that the polygon described by the provided list of tuples is not self-intersecting, but do not assume that it is convex.\n",
    "\n",
    "**Note: this is a *hard* problem. Quite hard.**"
   ]
  },
  {
   "cell_type": "code",
   "execution_count": null,
   "metadata": {},
   "outputs": [],
   "source": [
    "def polygon_collision(poly1, poly2):\n",
    "    pass\n",
    "\n",
    "unit_square = [(0,0), (0,1), (1,1), (1,0)]\n",
    "triangle = [(0,0), (0.5,2), (1,0)]\n",
    "\n",
    "print(polygon_collision(unit_square, triangle))  # => True"
   ]
  },
  {
   "cell_type": "markdown",
   "metadata": {},
   "source": [
    "## Done Early?\n",
    "\n",
    "Skim [Python’s Style Guide](https://www.python.org/dev/peps/pep-0008/), keeping the Zen of Python in mind. Feel free to skip portions of the style guide that cover material we haven't yet touched on in this class, but it's always good to start with an overview of good style."
   ]
  },
  {
   "cell_type": "markdown",
   "metadata": {},
   "source": [
    "## Credits for this Lab\n",
    "\n",
    "*Credit to Puzzling.SE (specifically [JLee](https://puzzling.stackexchange.com/users/463/jlee)), ProjectEuler and InterviewCake for several problem ideas*\n",
    "*Standford @sredmond*"
   ]
  }
 ],
 "metadata": {
  "kernelspec": {
   "display_name": "Python 3",
   "language": "python",
   "name": "python3"
  },
  "language_info": {
   "codemirror_mode": {
    "name": "ipython",
    "version": 3
   },
   "file_extension": ".py",
   "mimetype": "text/x-python",
   "name": "python",
   "nbconvert_exporter": "python",
   "pygments_lexer": "ipython3",
   "version": "3.7.4"
  }
 },
 "nbformat": 4,
 "nbformat_minor": 4
}
