{
 "cells": [
  {
   "cell_type": "markdown",
   "metadata": {},
   "source": [
    "# Lab 3: Exceptions Handling in Python"
   ]
  },
  {
   "cell_type": "markdown",
   "metadata": {},
   "source": [
    "## Exceptions"
   ]
  },
  {
   "cell_type": "markdown",
   "metadata": {},
   "source": [
    "### Reading\n",
    "\n",
    "Skim over [Python's documentation on built-in exceptions](https://docs.python.org/3/library/exceptions.html)."
   ]
  },
  {
   "cell_type": "markdown",
   "metadata": {},
   "source": [
    "### `try`/`except`/`else`/`finally`\n",
    "\n",
    "Python provides `try` and `except` blocks , similar to other languages' `try` and `catch` blocks, for basic exceptional control flow."
   ]
  },
  {
   "cell_type": "markdown",
   "metadata": {},
   "source": [
    "## Age Checker Exercise"
   ]
  },
  {
   "cell_type": "markdown",
   "metadata": {},
   "source": [
    "#### `get_age`\n",
    "\n",
    "Write a function `get_age` that asks a user for their age, which must be a positive integer between 0 and 123 inclusive (the oldest human recorded, Jeanna Clement, died at the age of 122). If the user enters something that's not an integer, you should reprompt them. However, if they enter an integer and it's out of range, you should raise an exception. That is, you should keep reprompting them until they enter something that can be converted into an integer, and then return that number if it's in range, and raise an exception otherwise. \n",
    "\n",
    "Two sample runs are shown below:\n",
    "\n",
    "```\n",
    "# (Call 1)\n",
    "How old are you? ABC\n",
    "Invalid integer input.\n",
    "How old are you? -4.5\n",
    "Invalid integer input.\n",
    "How old are you? 31\n",
    "# returns 36\n",
    "\n",
    "# (Call 2)\n",
    "How old are you? XYZ\n",
    "Invalid integer input.\n",
    "How old are you? 128\n",
    "# raises some exception\n",
    "Traceback (most recent call last):\n",
    "  File \"<stdin>\", line 1, in <module>\n",
    "ValueError: Age 128 out of range\n",
    "```\n"
   ]
  },
  {
   "cell_type": "code",
   "execution_count": null,
   "metadata": {},
   "outputs": [],
   "source": [
    "def get_age(min_age=0, max_age=123):\n",
    "    is_int = False\n",
    "    while not is_int:\n",
    "        try:\n",
    "            age = int(input(\"How old are you? \")) # => the output of the inner function becomes the input for the outer function\n",
    "            is_int = True # be sure to change the argument of the while loop\n",
    "        except Exception:\n",
    "            print(\"Invalid integer input.\")\n",
    "    \n",
    "    if age < min_age or age > max_age: # alternatively if age in range(min_age, max_age+1)\n",
    "        raise ValueError(f'Age {age} out of range') # f'' allows to format the string inserting a variable name\n",
    "    \n",
    "    return age"
   ]
  },
  {
   "cell_type": "code",
   "execution_count": null,
   "metadata": {},
   "outputs": [],
   "source": [
    "# (Call 1)\n",
    "get_age()"
   ]
  },
  {
   "cell_type": "code",
   "execution_count": null,
   "metadata": {},
   "outputs": [],
   "source": [
    "# (Call 2)\n",
    "get_age()"
   ]
  },
  {
   "cell_type": "markdown",
   "metadata": {},
   "source": [
    "### Custom Exceptions\n",
    "\n",
    "Write a custom exception class called `OutOfRangeError` that inherits from `ValueError` which indicates that a given value is outside of an acceptable range. What does this class definition look like? What is the body of the class?\n",
    "\n",
    "Rewrite your code in `get_age` to use this custom exception."
   ]
  },
  {
   "cell_type": "code",
   "execution_count": null,
   "metadata": {},
   "outputs": [],
   "source": [
    "class OutOfRangeError(ValueError):\n",
    "    \n",
    "    def __init__(self, given_value, acceptable_range):\n",
    "        super().__init__(f'The value {given_value} is out of range ({acceptable_range.start}, {acceptable_range.stop})')\n",
    "        \n",
    "def get_age(min_age=0, max_age=123):\n",
    "    is_int = False\n",
    "    while not is_int:\n",
    "        try:\n",
    "            age = int(input(\"How old are you? \")) # => the output of the inner function becomes the input for the outer function\n",
    "            is_int = True # be sure to change the argument of the while loop\n",
    "        except Exception:\n",
    "            print(\"Invalid integer input.\") # => age is defined, otherwise it loops over and over\n",
    "    \n",
    "    if age < min_age or age > max_age: # alternatively if age in range(min_age, max_age+1)\n",
    "        raise OutOfRangeError(age, range(min_age,max_age+1)) # f'' allows to format the string inserting a variable name\n",
    "    \n",
    "    return age"
   ]
  },
  {
   "cell_type": "code",
   "execution_count": null,
   "metadata": {},
   "outputs": [],
   "source": [
    "get_age()"
   ]
  },
  {
   "cell_type": "markdown",
   "metadata": {},
   "source": [
    "### Using `else` and `finally` (maybe)\n",
    "\n",
    "Rewrite your `get_age` function to use the `else` block, and optionally the `finally` block. As is consistent with general style guidelines, try to keep the `try` block as short as possible, containing just the code that might raise the exception you're trying to catch.\n"
   ]
  },
  {
   "cell_type": "code",
   "execution_count": null,
   "metadata": {},
   "outputs": [],
   "source": [
    "class OutOfRangeError(ValueError):\n",
    "    \n",
    "    def __init__(self, given_value, acceptable_range):\n",
    "        super().__init__(f'The value {given_value} is out of range ({acceptable_range.start}, {acceptable_range.stop})')\n",
    "        \n",
    "def get_age(min_age=0, max_age=123):\n",
    "    while True:\n",
    "        answer = input(\"How old are you? \")\n",
    "        try:\n",
    "            age = int(answer)\n",
    "        except ValueError:\n",
    "            print(\"Invalid integer input.\")\n",
    "        else:\n",
    "            if age < min_age or age > max_age:\n",
    "                raise OutOfRangeError(age, range(min_age,max_age+1))\n",
    "            else:\n",
    "                return age"
   ]
  },
  {
   "cell_type": "code",
   "execution_count": null,
   "metadata": {},
   "outputs": [],
   "source": [
    "get_age()"
   ]
  },
  {
   "cell_type": "markdown",
   "metadata": {},
   "source": [
    "### Reraising\n",
    "\n",
    "Consider the following code:\n",
    "\n",
    "```Python\n",
    "try:\n",
    "    print(\"in try\")\n",
    "    # (A)\n",
    "except Exception as exc:\n",
    "    print(\"in except\")\n",
    "    # (B)\n",
    "else:\n",
    "    print(\"in else\")\n",
    "    # (C)\n",
    "finally:\n",
    "    print(\"in finally\")\n",
    "    # (D)\n",
    "```\n",
    "\n",
    "We're going to add some errors to this code block, which currently prints out\n",
    "\n",
    "```\n",
    "in try\n",
    "in else\n",
    "in finally\n",
    "```\n",
    "\n",
    "For each of the labelled locations `(A), (B), (C), (D)`, which statements print out if we `raise Exception()` at that position? Run the code to test your hypotheses."
   ]
  },
  {
   "cell_type": "code",
   "execution_count": null,
   "metadata": {},
   "outputs": [],
   "source": [
    "# Case (A)\n",
    "try:\n",
    "    print(\"Try\")\n",
    "    raise Exception('An on-purpose exception.')\n",
    "except Exception as exc:\n",
    "    print(\"Except\")\n",
    "else:\n",
    "    print(\"Else\")\n",
    "finally:\n",
    "    print(\"Finally\")"
   ]
  },
  {
   "cell_type": "code",
   "execution_count": null,
   "metadata": {},
   "outputs": [],
   "source": [
    "# Case (B)\n",
    "try:\n",
    "    print(\"Try\")\n",
    "except Exception as exc:\n",
    "    print(\"Except\")\n",
    "    raise Exception('An on-purpose exception.')\n",
    "else:\n",
    "    print(\"Else\")\n",
    "finally:\n",
    "    print(\"Finally\")"
   ]
  },
  {
   "cell_type": "code",
   "execution_count": null,
   "metadata": {},
   "outputs": [],
   "source": [
    "# Case (C)\n",
    "try:\n",
    "    print(\"Try\")\n",
    "except Exception as exc:\n",
    "    print(\"Except\")\n",
    "else:\n",
    "    print(\"Else\")\n",
    "    raise Exception('An on-purpose exception.')\n",
    "finally:\n",
    "    print(\"Finally\")"
   ]
  },
  {
   "cell_type": "code",
   "execution_count": null,
   "metadata": {},
   "outputs": [],
   "source": [
    "# Case (D)\n",
    "try:\n",
    "    print(\"Try\")\n",
    "except Exception as exc:\n",
    "    print(\"Except\")\n",
    "else:\n",
    "    print(\"Else\")\n",
    "finally:\n",
    "    print(\"Finally\")\n",
    "    raise Exception('An on-purpose exception.')"
   ]
  },
  {
   "cell_type": "code",
   "execution_count": null,
   "metadata": {},
   "outputs": [],
   "source": [
    "# Case (AB)\n",
    "try:\n",
    "    print(\"Try\")\n",
    "    raise Exception('An on-purpose exception.')\n",
    "except Exception as exc:\n",
    "    print(\"Except\")\n",
    "    raise Exception('Another on-purpose exception.')\n",
    "else:\n",
    "    print(\"Else\")\n",
    "finally:\n",
    "    print(\"Finally\")"
   ]
  },
  {
   "cell_type": "code",
   "execution_count": null,
   "metadata": {},
   "outputs": [],
   "source": [
    "# Case (AC)\n",
    "try:\n",
    "    print(\"Try\")\n",
    "    raise Exception('An on-purpose exception.')\n",
    "except Exception as exc:\n",
    "    print(\"Except\")\n",
    "else:\n",
    "    print(\"Else\")\n",
    "    raise Exception('Another on-purpose exception.')\n",
    "finally:\n",
    "    print(\"Finally\")"
   ]
  },
  {
   "cell_type": "code",
   "execution_count": null,
   "metadata": {},
   "outputs": [],
   "source": [
    "# Case (AD)\n",
    "try:\n",
    "    print(\"Try\")\n",
    "    raise Exception('An on-purpose exception.')\n",
    "except Exception as exc:\n",
    "    print(\"Except\")\n",
    "else:\n",
    "    print(\"Else\")\n",
    "finally:\n",
    "    print(\"Finally\")\n",
    "    raise Exception('Another on-purpose exception.')"
   ]
  }
 ],
 "metadata": {
  "kernelspec": {
   "display_name": "Python 3",
   "language": "python",
   "name": "python3"
  },
  "language_info": {
   "codemirror_mode": {
    "name": "ipython",
    "version": 3
   },
   "file_extension": ".py",
   "mimetype": "text/x-python",
   "name": "python",
   "nbconvert_exporter": "python",
   "pygments_lexer": "ipython3",
   "version": "3.7.4"
  }
 },
 "nbformat": 4,
 "nbformat_minor": 4
}
