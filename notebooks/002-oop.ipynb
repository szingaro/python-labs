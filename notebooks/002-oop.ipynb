{
 "cells": [
  {
   "cell_type": "markdown",
   "metadata": {},
   "source": [
    "# Lab 2: Object-Oriented Python"
   ]
  },
  {
   "cell_type": "markdown",
   "metadata": {},
   "source": [
    "## Overview\n",
    "\n",
    "After have covered rules, definitions, and semantics, we'll be playing around with actual classes, writing a fair chunk of code and building several classes to solve a variety of problems.\n",
    "\n",
    "Recall our starting definitions:\n",
    "\n",
    "- An *object* has identity\n",
    "- A *name* is a reference to an object\n",
    "- A *namespace* is an associative mapping from names to objects\n",
    "- An *attribute* is any name following a dot ('.')"
   ]
  },
  {
   "cell_type": "markdown",
   "metadata": {},
   "source": [
    "## Course class"
   ]
  },
  {
   "cell_type": "markdown",
   "metadata": {},
   "source": [
    "### Basic Class\n",
    "\n",
    "Let’s create a class to represent courses! \n",
    "A course will have three attributes to start: a\n",
    "    1. department (like `\"AI\"` `\"CHEM\"`), \n",
    "    2. a course code (like `\"42\"` or `\"92SI\"`), \n",
    "    3. and a title (like `\"IAP\"`).\n",
    "\n",
    "```Python\n",
    "class Course:\n",
    "    def __init__(self, department, code, title):\n",
    "        self.department = department\n",
    "        self.code = code\n",
    "        self.title = title\n",
    "```\n",
    "\n",
    "You can assume that all arguments to this constructor will be strings.\n",
    "\n",
    "Running the following code cell will create a class object `Course` and print some information about it.\n",
    "\n",
    "*Note: If you change the content of this class definition, you will need to re-execute the code cell for it to have any effect. Any instance objects of the old class object will not be automatically updated, so you may need to rerun instantiations of this class object as well.*"
   ]
  },
  {
   "cell_type": "code",
   "execution_count": null,
   "metadata": {},
   "outputs": [],
   "source": [
    "class Course:\n",
    "    def __init__(self, department, code, title):\n",
    "        self.department = department\n",
    "        self.code = code\n",
    "        self.title = title\n",
    "        \n",
    "print(Course)\n",
    "print(Course.mro())\n",
    "print(Course.__init__)"
   ]
  },
  {
   "cell_type": "markdown",
   "metadata": {},
   "source": [
    "We create an instance of the class by instantiating the class object, supplying some arguments.\n",
    "\n",
    "```Python\n",
    "iap = Course(\"AI\", \"91256\", \"IAP: Introduction to Algorithms and Programming\")\n",
    "```\n",
    "\n",
    "Print out the three attributes of the `unbo_python` instance object."
   ]
  },
  {
   "cell_type": "code",
   "execution_count": null,
   "metadata": {},
   "outputs": [],
   "source": [
    "iap = Course(\"AI\", \"91256\", \"IAP: Introduction to Algorithms and Programming\")\n",
    "\n",
    "print(iap.department)  # Print out the department\n",
    "print(iap.code)  # Print out the code\n",
    "print(iap.title)  # Print out the title"
   ]
  },
  {
   "cell_type": "markdown",
   "metadata": {},
   "source": [
    "### Inheritance\n",
    "\n",
    "Let's explore inheritance by creating a `AICourse` class that takes an additional parameter `recorded` that defaults to `False`."
   ]
  },
  {
   "cell_type": "code",
   "execution_count": null,
   "metadata": {},
   "outputs": [],
   "source": [
    "class AICourse(Course):\n",
    "    def __init__(self, department, code, title, recorded=False):\n",
    "        super().__init__(department, code, title)\n",
    "        self.is_recorded = recorded"
   ]
  },
  {
   "cell_type": "markdown",
   "metadata": {},
   "source": [
    "The `super()` concretely lets us treat the `self` object as an instance object of the immediate superclass (as measured by MRO), so we can call the superclass's `__init__` method.\n",
    "\n",
    "We can instantiate our new class:\n",
    "\n",
    "```Python\n",
    "a = Course(\"AI\", \"91254\", \"Image Processing and Computer Vision\")\n",
    "b = AICourse(\"AI\", \"91247\", \"Cognition and Neuroscience\")\n",
    "x = AICourse(\"AI\", \"91247X\", \"Cognition and Neuroscience\", recorded=True)\n",
    "print(a.code)  # => \"91254\"\n",
    "print(b.code)  # => \"91247\"\n",
    "```\n",
    "\n",
    "Read through the following statements and try to predict their output.\n",
    "\n",
    "```Python\n",
    "type(a)\n",
    "isinstance(a, Course)\n",
    "isinstance(b, Course)\n",
    "isinstance(x, Course)\n",
    "isinstance(x, AICourse)\n",
    "issubclass(x, AICourse)\n",
    "issubclass(Course, AICourse)\n",
    "type(a) == type(b)\n",
    "type(b) == type(x)\n",
    "a == b\n",
    "b == x\n",
    "```"
   ]
  },
  {
   "cell_type": "code",
   "execution_count": null,
   "metadata": {},
   "outputs": [],
   "source": [
    "a = Course(\"AI\", \"91254\", \"Image Processing and Computer Vision\")\n",
    "b = AICourse(\"AI\", \"91247\", \"Cognition and Neuroscience\")\n",
    "x = AICourse(\"AI\", \"91247X\", \"Cognition and Neuroscience\", recorded=True)\n",
    "\n",
    "print(\"1.\", type(a))\n",
    "print(\"2.\", isinstance(a, Course))\n",
    "print(\"3.\", isinstance(b, Course))\n",
    "print(\"4.\", isinstance(x, Course))\n",
    "print(\"5.\", isinstance(x, AICourse))\n",
    "print(\"6.\", issubclass(Course, AICourse))\n",
    "print(\"7.\", issubclass(AICourse, Course))\n",
    "print(\"8.\", type(a) == type(b))\n",
    "print(\"9.\", type(b) == type(x))\n",
    "print(\"10.\", a == b)\n",
    "print(\"11.\", b == x)"
   ]
  },
  {
   "cell_type": "markdown",
   "metadata": {},
   "source": [
    "### Additional Attributes\n",
    "\n",
    "Let's add more functionality to the `Course` class!\n",
    "\n",
    "* Add a attribute `students` to the instances of the `Course` class that tracks whether students are present. Initially, students should be an empty set.\n",
    "* Create a method `mark_attendance(*students)` that takes a variadic number of `students` and marks them as present.\n",
    "* Create a method `is_present(student)` that takes a student’s name as a parameter and returns `True` if the student is present and `False` otherwise."
   ]
  },
  {
   "cell_type": "code",
   "execution_count": null,
   "metadata": {},
   "outputs": [],
   "source": [
    "class Course:\n",
    "    def __init__(self, department, code, title):\n",
    "        self.department = department\n",
    "        self.code = code\n",
    "        self.title = title\n",
    "        self.students = {}\n",
    "        \n",
    "    def mark_attendance(self, student):\n",
    "        if student in self.students:\n",
    "            self.students[student] += 1\n",
    "        else:\n",
    "            self.students[student] = 1\n",
    "    \n",
    "    def is_present(self, student):\n",
    "        return student in self.students\n"
   ]
  },
  {
   "cell_type": "markdown",
   "metadata": {},
   "source": [
    "### Implementing Prerequisites\n",
    "\n",
    "Now, we'll focus on `AICourse`. We want to implement functionality to determine if one computer science course is a prerequisite of another. In our implementation, we will assume that the ordering for courses is determined first by the numeric part of the course code: for example, `140` comes before `255`. If there is a tie, the ordering is determined by the default string ordering of the letters that follow. For example, `91254 > 91247`. After implementing, you should be able to see:\n",
    "\n",
    "```Python\n",
    ">>> ai91245 = Course(\"AI\", \"91254\", \"Image Processing and Computer Vision\")\n",
    ">>> ai91247 = AICourse(\"AI\", \"91247\", \"Cognition and Neuroscience\")\n",
    ">>> ai91247 > ai91245\n",
    "True\n",
    "```\n",
    "\n",
    "To accomplish this, you will need to implement a magic method `__le__` that will add functionality to determine if a course is a prerequisite for another course. Read up on [total ordering](https://docs.python.org/3/library/functools.html#functools.total_ordering) to figure out what `__le__` should return based on the argument you pass in.\n",
    "\n",
    "To give a few hints on how to add this piece of functionality might be implemented, consider how you might extract the actual `int` number from the course code attribute.\n",
    "\n",
    "Additionally, you should implement a `__eq__` on `Course`s. Two classes are equivalent if they are in the same department and have the same course code: the course title doesn't matter here."
   ]
  },
  {
   "cell_type": "code",
   "execution_count": null,
   "metadata": {},
   "outputs": [],
   "source": [
    "class Course:\n",
    "    def __init__(self, department, code, title):\n",
    "        self.department = department\n",
    "        self.code = code\n",
    "        self.title = title\n",
    "        self.students = {}\n",
    "        \n",
    "    def mark_attendance(self, student):\n",
    "        if student in self.students:\n",
    "            self.students[student] += 1\n",
    "        else:\n",
    "            self.students[student] = 1\n",
    "    \n",
    "    def is_present(self, student):\n",
    "        return student in self.students\n",
    "    \n",
    "    def __le__(self, other):\n",
    "        mycode = int(self.code)\n",
    "        othercode = int(other.code)\n",
    "        return mycode < othercode\n",
    "    \n",
    "    def __eq__(self, other):\n",
    "        mycode = int(self.code)\n",
    "        othercode = int(other.code)\n",
    "        mydepartment = self.department\n",
    "        otherdepartment = other.department\n",
    "        return (mycode == othercode) and (mydepartment == otherdepartment)\n",
    "    \n",
    "    \n",
    "c1 = Course(...)\n",
    "c1.mark_atte\n",
    "student1 = \"Mark\""
   ]
  },
  {
   "cell_type": "markdown",
   "metadata": {},
   "source": [
    "#### Sorting\n",
    "\n",
    "Now that we've written a `__le__` method and an `__eq__` method, we've implemented everything we need to speak about an \"ordering\" of `Course`s. \n",
    "\n",
    "##### Let Python do all the rest (Optional)\n",
    "\n",
    "Using the [`functools.total_ordering` decorator](https://docs.python.org/3/library/functools.html#functools.total_ordering), get back to the Course class definition and \"decorate\" it by adding `@total_ordering` before the very class definition, so that all of the comparison methods are implemented. \n",
    "Then, you should be able to run:"
   ]
  },
  {
   "cell_type": "code",
   "execution_count": null,
   "metadata": {},
   "outputs": [],
   "source": [
    "# Let's make ai91245 an AI course\n",
    "ai91245 = AICourse(\"AI\", \"91254\", \"Image Processing and Computer Vision\")\n",
    "ai91247 = AICourse(\"AI\", \"91247\", \"Cognition and Neuroscience\")\n",
    "ai91762 = AICourse(\"AI\", \"107\", \"Combinatorial Decision Making and Optimization\")\n",
    "ai91249 = AICourse(\"AI\", \"110\", \"Machine Learning and Deep Learning\")\n",
    "\n",
    "courses = [ai91247, ai91245, ai91762, ai91249]\n",
    "courses.sort()\n",
    "courses # => [ai91245, ai91247, ai91249, ai91762]"
   ]
  },
  {
   "cell_type": "markdown",
   "metadata": {},
   "source": [
    "### Instructors (optional)\n",
    "\n",
    "Allow the class to take a splat argument `instructors` that will take any number of strings and store them as a list of instructors.\n",
    "\n",
    "Modify the way you track attendance in the `Course` class to map a Python date object (you can use the `datetime` module) to a data structure tracking what students are there on that day."
   ]
  },
  {
   "cell_type": "code",
   "execution_count": null,
   "metadata": {},
   "outputs": [],
   "source": [
    "class CourseWithInstructors:\n",
    "    pass"
   ]
  },
  {
   "cell_type": "markdown",
   "metadata": {},
   "source": [
    "### Catalog (optional)\n",
    "\n",
    "Implement a class called `CourseCatalog` that is constructed from a list of `Course`s. Write a method for the `CourseCatalog` which returns a list of courses in a given department. Additionally, write a method for `CourseCatalog` that returns all courses that contain a given piece of search text in their title.\n",
    "\n",
    "Feel free to implement any other interesting methods you'd like."
   ]
  },
  {
   "cell_type": "code",
   "execution_count": null,
   "metadata": {},
   "outputs": [],
   "source": [
    "class CourseCatalog:\n",
    "    def __init__(self, courses):\n",
    "        pass\n",
    "       \n",
    "    def courses_by_department(self, department_name):\n",
    "        pass\n",
    "        \n",
    "    def courses_by_search_term(self, search_snippet):\n",
    "        pass"
   ]
  },
  {
   "cell_type": "markdown",
   "metadata": {},
   "source": [
    "## Inheritance"
   ]
  },
  {
   "cell_type": "markdown",
   "metadata": {},
   "source": [
    "Consider the following code:\n",
    "\n",
    "```Python\n",
    "\"\"\"Examples of Single Inheritance\"\"\"\n",
    "class Transportation:\n",
    "    wheels = 0\n",
    "\n",
    "    def __init__(self):\n",
    "        self.wheels = -1\n",
    "\n",
    "    def travel_one(self):\n",
    "        print(\"Travelling on generic transportation\")\n",
    "\n",
    "    def travel(self, distance):\n",
    "        for _ in range(distance):\n",
    "            self.travel_one()\n",
    "\n",
    "    def is_car(self):\n",
    "        return self.wheels == 4\n",
    "\n",
    "class Bike(Transportation):\n",
    "\n",
    "    def travel_one(self):\n",
    "        print(\"Biking one km\")\n",
    "\n",
    "class Car(Transportation):\n",
    "    wheels = 4\n",
    "\n",
    "    def travel_one(self):\n",
    "        print(\"Driving one km\")\n",
    "\n",
    "    def make_sound(self):\n",
    "        print(\"VROOM\")\n",
    "\n",
    "class Ferrari(Car):\n",
    "    pass\n",
    "\n",
    "t = Transportation()\n",
    "b = Bike()\n",
    "c = Car()\n",
    "f = Ferrari()\n",
    "```\n",
    "\n",
    "Predict the outcome of each of the following lines of code.\n",
    "\n",
    "```Python\n",
    "isinstance(t, Transportation)\n",
    "\n",
    "isinstance(b, Bike)\n",
    "isinstance(b, Transportation)\n",
    "isinstance(b, Car)\n",
    "isinstance(b, t)\n",
    "\n",
    "isinstance(c, Car)\n",
    "isinstance(c, Transportation)\n",
    "\n",
    "isinstance(f, Ferrari)\n",
    "isinstance(f, Car)\n",
    "isinstance(f, Transportation)\n",
    "\n",
    "issubclass(Bike, Transportation)\n",
    "issubclass(Car, Transportation)\n",
    "issubclass(Ferrari, Car)\n",
    "issubclass(Ferrari, Transportation)\n",
    "issubclass(Transportation, Transportation)\n",
    "\n",
    "b.travel(5)\n",
    "c.is_car()\n",
    "f.is_car()\n",
    "b.is_car()\n",
    "b.make_sound()\n",
    "c.travel(10)\n",
    "f.travel(4)\n",
    "```"
   ]
  },
  {
   "cell_type": "code",
   "execution_count": null,
   "metadata": {},
   "outputs": [],
   "source": [
    "class Transportation:\n",
    "    wheels = 0\n",
    "\n",
    "    def __init__(self):\n",
    "        self.wheels = -1\n",
    "\n",
    "    def travel_one(self):\n",
    "        print(\"Travelling on generic transportation\")\n",
    "\n",
    "    def travel(self, distance):\n",
    "        for _ in range(distance):\n",
    "            self.travel_one()\n",
    "\n",
    "    def is_car(self):\n",
    "        return self.wheels == 4\n",
    "\n",
    "class Bike(Transportation):\n",
    "    wheels = 2\n",
    "\n",
    "    def travel_one(self):\n",
    "        print(\"Biking one km\")\n",
    "\n",
    "class Car(Transportation):\n",
    "    wheels = 4\n",
    "\n",
    "    def travel_one(self):\n",
    "        print(\"Driving one km\")\n",
    "\n",
    "    def make_sound(self):\n",
    "        print(\"VROOM\")\n",
    "\n",
    "class Ferrari(Car):\n",
    "    pass\n",
    "\n",
    "t = Transportation()\n",
    "b = Bike()\n",
    "c = Car()\n",
    "f = Ferrari()"
   ]
  },
  {
   "cell_type": "code",
   "execution_count": null,
   "metadata": {},
   "outputs": [],
   "source": [
    "print(\"1.\", isinstance(t, Transportation))\n",
    "\n",
    "print(\"2.\", isinstance(b, Bike))\n",
    "print(\"3.\", isinstance(b, Transportation))\n",
    "print(\"4.\", isinstance(b, Car))\n",
    "print(\"5.\", isinstance(b, type(Car)))\n",
    "\n",
    "print(\"6.\", isinstance(c, Car))\n",
    "print(\"7.\", isinstance(c, Transportation))\n",
    "\n",
    "print(\"8.\", isinstance(f, Ferrari))\n",
    "print(\"9.\", isinstance(f, Car))\n",
    "print(\"10.\", isinstance(f, Transportation))\n",
    "\n",
    "print(\"11.\", issubclass(Bike, Transportation))\n",
    "print(\"12.\", issubclass(Car, Transportation))\n",
    "print(\"13.\", issubclass(Ferrari, Car))\n",
    "print(\"14.\", issubclass(Ferrari, Transportation))\n",
    "print(\"15.\", issubclass(Transportation, Transportation))\n",
    "\n",
    "b.travel(5)\n",
    "print(\"16.\", c.is_car()) # => c.wheels ?\n",
    "print(\"17.\", f.is_car()) # => f.wheels ?\n",
    "print(\"18.\", b.is_car()) # => b.wheels ?\n",
    "# b.make_sound()\n",
    "c.travel(10)\n",
    "f.travel(4)"
   ]
  },
  {
   "cell_type": "markdown",
   "metadata": {},
   "source": [
    "## SimpleGraph"
   ]
  },
  {
   "cell_type": "markdown",
   "metadata": {},
   "source": [
    "In this part, you'll build the implementation for a `SimpleGraph` class in Python.\n",
    "\n",
    "In particular, you will need to define a `Vertex` class, an `Edge` class, and a `SimpleGraph` class. The specification is as follows:\n",
    "\n",
    "A `Vertex` has attributes:\n",
    "\n",
    "* `name`, a string representing the label of the vertex.\n",
    "* `edges`, a set representing edges outbound from this vertex to its neighbors\n",
    "\n",
    "A new Vertex should be initialized with an optional `name`, which defaults to `\"\"`, and should be initialized with an empty edge set.\n",
    "\n",
    "An `Edge` has attributes:\n",
    "\n",
    "* `start`, a `Vertex` representing the start point of the edge.\n",
    "* `end`, a `Vertex` representing the end point of the edge.\n",
    "* `cost`, a `float` (used for graph algorithms) representing the weight of the edge.\n",
    "* `visited`, a `bool` (used for graph algorithms) representing whether this edge has been visited before.\n",
    "\n",
    "Note that for our purposes, an `Edge` is directed.\n",
    "\n",
    "An `Edge` requires a `start` and `end` vertex in order to be instantiated. `cost` should default to 1, and `visited` should default to `False`, but both should be able to be set via an initializer.\n",
    "\n",
    "A `SimpleGraph` has attributes\n",
    "\n",
    "* `verts`, a collection of `Vertex`s (you need to decide the collection type)\n",
    "* `edges`, a collection of `Edge`s (you need to decide the collection type)\n",
    "\n",
    "as well as several methods:\n",
    "\n",
    "* `graph.add_vertex(v)`\n",
    "* `graph.add_edge(v_1, v_2)`\n",
    "* `graph.contains_vertex(v)`\n",
    "* `graph.contains_edge(v_1, v_2)`\n",
    "* `graph.get_neighbors(v)`\n",
    "* `graph.is_empty()`\n",
    "* `graph.size()`\n",
    "* `graph.remove_vertex(v)`\n",
    "* `graph.remove_edge(v_1, v_2)`\n",
    "* `graph.is_neighbor(v1, v2)`\n",
    "* `graph.is_reachable(v1, v2)  # Use any algorithm you like`\n",
    "* `graph.clear_all()`\n",
    "\n",
    "The actual implementation details are up to you.\n",
    "\n",
    "*Note: debugging will significantly easier if you write `__str__` or `__repr__` methods on your custom classes.*"
   ]
  },
  {
   "cell_type": "code",
   "execution_count": null,
   "metadata": {},
   "outputs": [],
   "source": [
    "class Vertex:\n",
    "    pass\n",
    "\n",
    "class Edge:\n",
    "    pass\n",
    "\n",
    "class SimpleGraph:\n",
    "    pass"
   ]
  },
  {
   "cell_type": "markdown",
   "metadata": {},
   "source": [
    "### Challenge: Graph Algorithms\n",
    "\n",
    "If you're feeling up to the challenge, and you have sufficient time, implement other graph algorithms, including those covered in ai91247/X, using your SimpleGraph. The point isn't to check whether you still know your graph algorithms - rather, these algorithms will serve to test the correctness of your graph implementation. The particulars are up to you.\n",
    "\n",
    "As some suggestions:\n",
    "\n",
    "* Longest path\n",
    "* D'ijkstras Algorithm\n",
    "* A*\n",
    "* Max Flow\n",
    "* K-Clique\n",
    "* Largest Connected Component\n",
    "* is_bipartite\n",
    "* hamiltonian_path_exists\n",
    "\n",
    "```\n",
    "graph = SimpleGraph()\n",
    "# Your extension code here\n",
    "```"
   ]
  },
  {
   "cell_type": "markdown",
   "metadata": {},
   "source": [
    "### Challenge: Using Magic Methods\n",
    "\n",
    "See if you can rewrite the `SimpleGraph` class using magic methods to emulate the behavior and operators of standard Python. In particular,\n",
    "\n",
    "```\n",
    "graph[v]  # returns neighbors of v\n",
    "graph[v] = v_2  # Insert an edge from v to v2\n",
    "len(graph)\n",
    "# etc\n",
    "```\n"
   ]
  },
  {
   "cell_type": "markdown",
   "metadata": {},
   "source": [
    "## Timed Key-Value Store (challenge)\n",
    "\n",
    "Let's build an interesting data structure straight out of an interview programming challenge from [Stripe](https://stripe.com/). This is more of an algorithms challenge than a Python challenge, but we hope you're still interested in tackling it.\n",
    "\n",
    "At a high-level, we'll be building a key-value store (think `dict` or Java's `HashMap`) that has a `get` method that takes an optional second parameter as a `time` object in Python to return the most recent value before that period in time. If no key-value pair was added to the map before that period in time, return `None`.\n",
    "\n",
    "For consistency’s sake, let’s call this class `TimedKVStore` and put it into a file called `kv_store.py`\n",
    "\n",
    "You’ll need some sort of `time` object to track when key-value pairs are getting added to this map. Consider using [the `time` module](https://docs.python.org/3/library/time.html).\n",
    "\n",
    "To give you an idea of how this class works, this is what should happen after you implement `TimedKVStore`.\n",
    "\n",
    "```Python\n",
    "d = TimedKVStore()\n",
    "t0 = time.time()\n",
    "d.put(\"1\", 1)\n",
    "t1 = time.time()\n",
    "d.put(\"1\", 1.1)\n",
    "d.get(\"1\")  # => 1.1\n",
    "d.get(\"1\", t1)  # => 1\n",
    "d.get(\"1\", t0)  # => None\n",
    "```"
   ]
  },
  {
   "cell_type": "code",
   "execution_count": null,
   "metadata": {},
   "outputs": [],
   "source": [
    "class TimedKVStore:\n",
    "    pass\n",
    "\n",
    "d = TimedKVStore()\n",
    "t0 = time.time()\n",
    "d.put(\"1\", 1)\n",
    "t1 = time.time()\n",
    "d.put(\"1\", 1.1)\n",
    "print(d.get(\"1\"))  # => 1.1\n",
    "print(d.get(\"1\", t1))  # => 1\n",
    "print(d.get(\"1\", t0))  # => None"
   ]
  },
  {
   "cell_type": "markdown",
   "metadata": {},
   "source": [
    "### Remove (challenge)\n",
    "\n",
    "Implement a method on a `TimedKVStore` to `remove(key)` that takes a key and removes that entire key from the key-value store.\n",
    "\n",
    "Write another `remove(key, time)` method that takes a key and removes all memory of values before that time method."
   ]
  },
  {
   "cell_type": "markdown",
   "metadata": {},
   "source": [
    "## Bloom Filter (challenge)"
   ]
  },
  {
   "cell_type": "markdown",
   "metadata": {},
   "source": [
    "A bloom filter is a fascinating data structure that support insertion and probabilistic set membership. Read up on Wikipedia!\n",
    "\n",
    "Write a class `BloomFilter` to implement a bloom filter data structure. Override the `__contains__` method so that membership can be tested with `x in bloom_filter`."
   ]
  },
  {
   "cell_type": "code",
   "execution_count": null,
   "metadata": {},
   "outputs": [],
   "source": [
    "class BloomFilter:\n",
    "    pass"
   ]
  },
  {
   "cell_type": "markdown",
   "metadata": {},
   "source": [
    "## Silencer Context Manager (challenge)"
   ]
  },
  {
   "cell_type": "markdown",
   "metadata": {},
   "source": [
    "In some cases, you may want to suppress the output a given code block. Maybe it's untrusted code, or maybe it's littered with `print`s that you don't want to comment out. We can use the context manager syntax in Python to define a class that serves as a context manager. We want to use this as:\n",
    "\n",
    "```Python\n",
    "with Silencer():\n",
    "    noisy_code()\n",
    "```\n",
    "\n",
    "Our class will look something like\n",
    "\n",
    "```Python\n",
    "class Silencer:\n",
    "    def __init__(self):\n",
    "        pass\n",
    "        \n",
    "    def __enter__(self):\n",
    "        pass\n",
    "        \n",
    "    def __exit__(self, *exc):\n",
    "        pass\n",
    "```\n",
    "\n",
    "The `__enter__` method is called when the with block is entered, and `__exit__` is called when leaving the block, with any relevant information about an active exception passed in. Write the `__enter__` method to redirect standard output and standard error to `stringio.StringIO()` objects to capture the output, and make sure that `__exit__` restored the saved stdout and stderr. What would a `__str__` method on a `Silencer` object look like?\n",
    "\n",
    "Recall that the with statement in Python is *almost* implemented as:\n",
    "\n",
    "```Python\n",
    "with open(filename) as f:\n",
    "    raw = f.read()\n",
    "# is (almost) equivalent to\n",
    "f = open(filename)\n",
    "f.__enter__()\n",
    "try:\n",
    "    raw = f.read()\n",
    "finally:\n",
    "    f.__exit__()  # Closes the file\n",
    "```"
   ]
  },
  {
   "cell_type": "code",
   "execution_count": null,
   "metadata": {},
   "outputs": [],
   "source": [
    "class Silencer:\n",
    "    pass"
   ]
  },
  {
   "cell_type": "markdown",
   "metadata": {},
   "source": [
    "## Magic Methods"
   ]
  },
  {
   "cell_type": "markdown",
   "metadata": {},
   "source": [
    "### Reading\n",
    "\n",
    "Python provides an enormous number of special methods that a class can override to interoperator with builtin Python operations. You can skim through an [approximate visual list](http://diveintopython3.problemsolving.io/special-method-names.html) from Dive into Python3, or a [more verbose explanation](https://rszalski.github.io/magicmethods/), or the [complete Python documentation](https://docs.python.org/3/reference/datamodel.html#specialnames) on special methods. Fair warning, there are a lot of them, so it's probably better to skim than to really take a deep dive, unless you're loving this stuff."
   ]
  },
  {
   "cell_type": "markdown",
   "metadata": {},
   "source": [
    "### Writing (Polynomial Class)\n",
    "\n",
    "We will write a `Polynomial` class that acts like a number. As a a reminder, a [polynomial](https://en.wikipedia.org/wiki/Polynomial) is a mathematical object that looks like $1 + x + x^2$ or $4 - 10x + x^3$ or $-4 - 2x^{10}$. A mathematical polynomial can be evaluated at a given value of $x$. For example, if $f(x) = 1 + x + x^2$, then $f(5) = 1 + 5 + 5^2 = 1 + 5 + 25 = 31$.\n",
    "\n",
    "Polynomials are also added componentwise: If $f(x) = 1 + 4x + 4x^3$ and $g(x) = 2 + 3x^2 + 5x^3$, then $(f + g)(x) = (1 + 2) + 4x + 3x^2 + (4 + 5)x^3 = 3 + 4 + 3x^2 + 9x^3$.\n",
    "\n",
    "Construct a polynomial with a variadic list of coefficients: the zeroth argument is the coordinate of the $x^0$'s place, the first argument is the coordinate of the $x^1$'s place, and so on. For example, `f = Polynomial(1, 3, 5)` should construct a `Polynomial` representing $1 + 3x + 5x^2$.\n",
    "\n",
    "You will need to override the addition special method (`__add__`) and the callable special method (`__call__`).\n",
    "\n",
    "You should be able to emulate the following code:\n",
    "\n",
    "```Python\n",
    "f = Polynomial(1, 5, 10)\n",
    "g = Polynomial(1, 3, 5)\n",
    "\n",
    "print(f(5))  # => Invokes `f.__call__(5)`\n",
    "print(g(2))  # => Invokes `g.__call__(2)`\n",
    "\n",
    "h = f + g    # => Invokes `f.__add__(g)`\n",
    "print(h(3))  # => Invokes `h.__call__(3)`\n",
    "```\n",
    "\n",
    "Lastly, implement a method to convert a `Polynomial` to an informal string representation. For example, the polynomial `Polynomial(1, 3, 5)` should be represented by the string `\"1 * x^0 + 3 * x^1 + 5 * x^2\"`."
   ]
  },
  {
   "cell_type": "code",
   "execution_count": null,
   "metadata": {},
   "outputs": [],
   "source": [
    "class Polynomial:\n",
    "    def __init__(self):\n",
    "        pass\n",
    "    \n",
    "    def __call__(self, x):\n",
    "        \"\"\"Implement `self(x)`.\"\"\"\n",
    "        pass\n",
    "    \n",
    "    def __add__(self, other):\n",
    "        \"\"\"Implement `self + other`.\"\"\"\n",
    "        pass\n",
    "    \n",
    "    def __str__(self):\n",
    "        \"\"\"Implement `str(x)`.\"\"\"\n",
    "        pass"
   ]
  },
  {
   "cell_type": "markdown",
   "metadata": {},
   "source": [
    "#### Polynomial Extensions (optional)\n",
    "\n",
    "If you are looking for more, implement additional operations on our `Polynomial` class. You may want to implement `__sub__`, `__mul__`, and `__div__`.\n",
    "\n",
    "You can also implement more complicated mathematical operations, such as `f.derivative()`, which returns a new function that is the derivative of `f`, or `.zeros()`, which returns a collection of the function's zeros.\n",
    "\n",
    "If you need even more, write a `classmethod` to construct a polynomial from a string representation of it. You should be able to write:\n",
    "\n",
    "```\n",
    "f = Polynomial.parse(\"1 * x^0 + 3 * x^1 + 5 * x^2\")\n",
    "```"
   ]
  },
  {
   "cell_type": "markdown",
   "metadata": {},
   "source": [
    "#### Challenge (`MultivariatePolynomial`)\n",
    "\n",
    "Write a class called `MultivariatePolynomial` that represents a polynomial in many variables. For example, $f(x, y, z) = 4xy + 10x^2z - 5x^3yz + y^4z^3$ is a polynomial in three variables.\n",
    "\n",
    "How would you provide coefficients to the constructor? How would you define the arguments to the callable? How would you implement the mathematical operations efficiently?"
   ]
  }
 ],
 "metadata": {
  "kernelspec": {
   "display_name": "Python 3",
   "language": "python",
   "name": "python3"
  },
  "language_info": {
   "codemirror_mode": {
    "name": "ipython",
    "version": 3
   },
   "file_extension": ".py",
   "mimetype": "text/x-python",
   "name": "python",
   "nbconvert_exporter": "python",
   "pygments_lexer": "ipython3",
   "version": "3.7.4"
  }
 },
 "nbformat": 4,
 "nbformat_minor": 4
}
