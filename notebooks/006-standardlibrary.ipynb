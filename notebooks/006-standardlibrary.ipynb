{
 "cells": [
  {
   "cell_type": "markdown",
   "metadata": {},
   "source": [
    "# Lab 6: Standard Library"
   ]
  },
  {
   "cell_type": "markdown",
   "metadata": {},
   "source": [
    "## Overview\n",
    "\n",
    "The goal of this lab is to become familiar with the tools provided by Python's standard library. We want you to gain practice with the most common utilities of the standard library and also to be aware of the rest of the tools in case you ever need them.\n",
    "\n",
    "**We expect that most of the time in this lab will be spent _reading_ documentation for the modules in the standard library that you find intriguing or applicable to your interests.** If you have any questions about any standard library features, please ask us!"
   ]
  },
  {
   "cell_type": "markdown",
   "metadata": {},
   "source": [
    "## Read\n",
    "\n",
    "We get it. At first, reading documentation doesn't sound like a fun way to spend an afternoon. However, this is one of a rare few times when you will have dedicated class time to take a deep dive into a library tool. Python's standard library is huge, and although your interests may not span the whole library, we're willing to bet that you can find something you enjoy in the library.\n",
    "\n",
    "Remember that you can follow along with the documentation's examples in the interactive interpreter - we recommend this approach, so that you're both reading about and practicing with the modules you like.\n",
    "\n",
    "Several of the documentation pages have links to the module's source code - if you're interested in seeing examples of well-crafted Python modules, there's no better place to look than the standard library!\n",
    "\n",
    "Above all, explore and ask questions! You should plan to spend **around the first half of lab time in this section**, reading about features of the standard library.\n",
    "\n",
    "If you don't know which modules to look at, we have a list of some of our favorite modules that *weren't* covered in lecture, based on common general interests. Ask us about what you'd like to learn more about, and we'll point you in the right general direction.\n",
    "\n",
    "The top-level categories of tools in the standard library are:\n",
    "\n",
    "- Built-in [Functions](https://docs.python.org/3/library/functions.html), [Constants](https://docs.python.org/3/library/constants.html), [Types](https://docs.python.org/3/library/stdtypes.html), and [Exceptions](https://docs.python.org/3/library/exceptions.html)\n",
    "- [Text Processing Services](https://docs.python.org/3/library/text.html)\n",
    "- [Binary Data Services](https://docs.python.org/3/library/binary.html)\n",
    "- [Data Types](https://docs.python.org/3/library/datatypes.html)\n",
    "- [Numeric and Mathematical Modules](https://docs.python.org/3/library/numeric.html)\n",
    "- [Functional Programming Modules](https://docs.python.org/3/library/functional.html)\n",
    "- [File and Directory Access](https://docs.python.org/3/library/filesys.html)\n",
    "- [Data Persistence](https://docs.python.org/3/library/persistence.html)\n",
    "- [Data Compression and Archiving](https://docs.python.org/3/library/archiving.html)\n",
    "- [File Formats](https://docs.python.org/3/library/fileformats.html)\n",
    "- [Cryptographic Services](https://docs.python.org/3/library/crypto.html)\n",
    "- [Generic Operating System Services](https://docs.python.org/3/library/allos.html)\n",
    "- [Concurrent Execution](https://docs.python.org/3/library/concurrency.html)\n",
    "- [Context Variables](https://docs.python.org/3/library/contextvars.html)\n",
    "- [Networking and Interprocess Communication](https://docs.python.org/3/library/ipc.html)\n",
    "- [Internet Data Handling](https://docs.python.org/3/library/netdata.html)\n",
    "- [Structured Markup Processing Tools](https://docs.python.org/3/library/markup.html)\n",
    "- [Internet Protocols and Support](https://docs.python.org/3/library/internet.html)\n",
    "- [Multimedia Services](https://docs.python.org/3/library/mm.html)\n",
    "- [Internationalization](https://docs.python.org/3/library/i18n.html)\n",
    "- [Program Frameworks](https://docs.python.org/3/library/frameworks.html)\n",
    "- [Graphical User Interfaces with Tk](https://docs.python.org/3/library/tk.html)\n",
    "- [Development Tools](https://docs.python.org/3/library/development.html)\n",
    "- [Debugging and Profiling](https://docs.python.org/3/library/debug.html)\n",
    "- [Software Packaging and Distribution](https://docs.python.org/3/library/distribution.html)\n",
    "- [Python Runtime Services](https://docs.python.org/3/library/python.html)\n",
    "- [Custom Python Interpreters](https://docs.python.org/3/library/custominterp.html)\n",
    "- [Importing Modules](https://docs.python.org/3/library/modules.html)\n",
    "- [Python Language Services](https://docs.python.org/3/library/language.html)"
   ]
  },
  {
   "cell_type": "markdown",
   "metadata": {},
   "source": [
    "### [Take Me To The Standard Library (Click Me!)](https://docs.python.org/3/library/)"
   ]
  },
  {
   "cell_type": "markdown",
   "metadata": {},
   "source": [
    "## Write\n",
    "\n",
    "In this section, you'll gain practice with some of the common modules in the Python standard library."
   ]
  },
  {
   "cell_type": "markdown",
   "metadata": {},
   "source": [
    "### Manipulating `collections`\n",
    "\n",
    "**Before continuing, read the [`collections` documentation](https://docs.python.org/3/library/collections.html) at least through the section on `namedtuple()`.**"
   ]
  },
  {
   "cell_type": "markdown",
   "metadata": {},
   "source": [
    "##### Working with `collections.namedtuple`\n",
    "\n",
    "In this section, we modify code that prints out a message about each of a bunch of animals.\n",
    "\n",
    "Rewrite the following code to be more Pythonic by using `collections.namedtuple` to add readable attribute references. The attributes for these animals are `'name'`, `'species'`, `'color'`, and `'age'`."
   ]
  },
  {
   "cell_type": "code",
   "execution_count": null,
   "metadata": {},
   "outputs": [],
   "source": [
    "# Rewrite me to be more Pythonic!\n",
    "import collections\n",
    "\n",
    "lassie = ('Lassie', 'dog', 'black', 12)\n",
    "buddy = ('Buddy', 'pupper', 'red', 0.5)  # Woof! Follow me on insta @buddypelu\n",
    "astro = ('Astro', 'doggo', 'grey', 15)\n",
    "mrpb = ('Mr. Peanutbutter', 'dog', 'golden', 35)\n",
    "bojack = ('BoJack Horseman', 'horse', 'brown', 52)\n",
    "pc = ('Princess Carolyn', 'cat', 'pink', 34)\n",
    "tinkles = ('Mr. Tinkles', 'cat', 'white', 7)\n",
    "pupper = ('Bella', 'pupper', 'brown', 0.5)\n",
    "doggo = ('Max', 'doggo', 'brown', 5)\n",
    "seuss = ('The Cat in the Hat', 'cat', 'stripey', 27)\n",
    "pluto = ('Pluto (Disney)', 'dog', 'orange', 3)\n",
    "plu2o = ('Pluto (space)', 'planet', 'brownish', 4500000000)\n",
    "yertle = ('Yertle', 'turtle', 'green', 130)\n",
    "horton = ('Horton', 'elephant', 'blue', 79)\n",
    "\n",
    "for animal in [lassie, buddy, astro, mrpb, bojack, pc, tinkles, pupper, doggo, seuss, pluto, plu2o, yertle, horton]:\n",
    "    if animal[1] == 'dog' or animal[1] == 'doggo' or animal[1] == 'pupper':\n",
    "        if animal[3] > 5:\n",
    "            print(animal[0] + ' is an old ' + animal[2] + ' ' + animal[1] + ' who is ' + str(animal[3]) + ' years old.')\n",
    "        else:\n",
    "            print(animal[0] + ' is a young ' + animal[2] + ' ' + animal[1] + ' who is ' + str(animal[3]) + ' years old.')\n",
    "    else:\n",
    "        print(animal[0] + ' is a ' + str(animal[3]) + '-year-old non-canine ' + animal[2] + ' ' + animal[1] + '.')\n",
    "        \n",
    "# Prints out:\n",
    "# Lassie is an old black dog who is 12 years old.\n",
    "# Buddy is a young red pupper who is 0.5 years old.\n",
    "# Astro is an old grey doggo who is 15 years old.\n",
    "# Mr. Peanutbutter is an old golden dog who is 35 years old.\n",
    "# BoJack Horseman is a 52-year-old non-canine brown horse.\n",
    "# Princess Carolyn is a 34-year-old non-canine pink cat.\n",
    "# Mr. Tinkles is a 7-year-old non-canine white cat.\n",
    "# Bella is a young brown pupper who is 0.5 years old.\n",
    "# Max is a young brown doggo who is 5 years old.\n",
    "# The Cat in the Hat is a 27-year-old non-canine stripey cat.\n",
    "# Pluto (Disney) is a young orange dog who is 3 years old.\n",
    "# Pluto (space) is a 4500000000-year-old non-canine brownish planet.\n",
    "# Yertle is a 130-year-old non-canine green turtle.\n",
    "# Horton is a 79-year-old non-canine blue elephant."
   ]
  },
  {
   "cell_type": "markdown",
   "metadata": {},
   "source": [
    "#### Using `collections.defaultdict` and `collections.Counter`\n",
    "\n",
    "Using `/usr/share/dict/words` (alternatively, `https://stanfordpython.com/res/misc/words` if you are on Windows) as a data source, what are the three most common word lengths in the English language? Remember to strip off trailing whitespace."
   ]
  },
  {
   "cell_type": "code",
   "execution_count": null,
   "metadata": {},
   "outputs": [],
   "source": [
    "# Change me to another file location if you've downloaded a copy of the word list.\n",
    "# Recall that this file has one word per line.\n",
    "FILENAME = '/usr/share/dict/words'\n",
    "\n",
    "# TODO(you): Print the three most common word lengths in the English language."
   ]
  },
  {
   "cell_type": "code",
   "execution_count": null,
   "metadata": {},
   "outputs": [],
   "source": [
    "import collections\n",
    "\n",
    "def mask(word, letter):\n",
    "    return ''.join('-' if letter != ch else letter for ch in word)\n",
    "\n",
    "\n",
    "def largest_families(words, letter, num_families=3):\n",
    "    pass\n",
    "\n",
    "\n",
    "# Quick test\n",
    "words = ['sees', 'says', 'sass']\n",
    "print(largest_families(words, 's', num_families=1)[0])  # => Should print ['sees', 'says']"
   ]
  },
  {
   "cell_type": "markdown",
   "metadata": {},
   "source": [
    "#### Working Together\n",
    "\n",
    "Use tools from the `collections` module to implement an `Employee` database, which maintains organizational relationships among employees. Suppose that your data is provided in a tab-separated file:\n",
    "\n",
    "```\n",
    "employee_name    employee_manager    salary    department    title\n",
    "employee_name    employee_manager    salary    department    title\n",
    "...\n",
    "employee_name    employee_manager    salary    department    title\n",
    "```\n",
    "\n",
    "If you'd like sample data to work with, you can use the following\n",
    "```\n",
    "sredmond\tpoohbear\t0\tCS\tInstructor\n",
    "poohbear\tsahami\t500\tCS\tLecturer\n",
    "tigger\tpoohbear\t100\tCS\tTiger\n",
    "htiek\tsahami\t500\tCS\tLecturer\n",
    "sahami\tmtl\t5000\tCS\tProfessor\n",
    "guido\tguido\t50000\tPSF\tBDFL\n",
    "```\n",
    "Save the above text to a file, making sure that your text editor doesn't automatically replace all of tabs with spaces!\n",
    "\n",
    "After writing code to load this information from a file, implement the following functions.\n",
    "\n",
    "```Python\n",
    "def directly_reports_to(employee, manager):\n",
    "    \"\"\"Return whether or not employee directly reports to manager\"\"\"\n",
    "    pass\n",
    "\n",
    "def indirectly_reports_to(employee, manager):\n",
    "    \"\"\"Return whether or not employee indirectly reports to manager\"\"\"\n",
    "    pass\n",
    "    \n",
    "def in_department(dept):\n",
    "    \"\"\"Return a collection of all employees of a given department\"\"\"\n",
    "    pass\n",
    "    \n",
    "def cost_of(dept):\n",
    "    \"\"\"Return the sum total of salaries for all employees of a given department\"\"\"\"\n",
    "    pass\n",
    "```\n",
    "\n",
    "The primary portion of this section is parsing the file and storing the employees in a your choice of data structure keyed by some of the employees' information."
   ]
  },
  {
   "cell_type": "code",
   "execution_count": null,
   "metadata": {},
   "outputs": [],
   "source": [
    "import collections\n",
    "\n",
    "# Replace me with the name of a file containing employment data.\n",
    "FILENAME = 'replace-me.txt'\n",
    "\n",
    "# TODO(you): Read the data file and store the data in a data structure.\n",
    "\n",
    "\n",
    "def directly_reports_to(employee, manager):\n",
    "    \"\"\"Return whether or not employee directly reports to manager\"\"\"\n",
    "    pass\n",
    "\n",
    "\n",
    "def indirectly_reports_to(employee, manager):\n",
    "    \"\"\"Return whether or not employee indirectly reports to manager\"\"\"\n",
    "    pass\n",
    "\n",
    "\n",
    "def in_department(dept):\n",
    "    \"\"\"Return a collection of all employees of a given department\"\"\"\n",
    "    pass\n",
    "\n",
    "\n",
    "def cost_of(dept):\n",
    "    \"\"\"Return the sum total of salaries for all employees of a given department\"\"\"\"\n",
    "    pass"
   ]
  },
  {
   "cell_type": "markdown",
   "metadata": {},
   "source": [
    "### Extracting data with `re`\n",
    "\n",
    "If you're fairly new to regular expressions, we recommend you read through [the official Python HOWTO](https://docs.python.org/3/howto/regex.html) and walk through those examples instead of solving this portion of the lab.\n",
    "\n",
    "Otherwise, **read through the official [`re` documentation](https://docs.python.org/3/library/re.html) through \"Match Objects\"** (although the next section provides some neat examples)."
   ]
  },
  {
   "cell_type": "markdown",
   "metadata": {},
   "source": [
    "#### Wordplay\n",
    "\n",
    "Using the list of words found at `/usr/share/dict/words` (or alternatively, `http://stanfordpython.com/res/misc/words`), determine all words that have all five vowels in order. That is, words that contain an `'a'`, `'e'`, `'i'`, `'o'`, and `'u'` in order, with any number (including 0) of non-vowel word characters before the 'a', between the vowels, and after the 'u'.\n",
    "\n",
    "For example, your list should contain both `\"abstemious\"` and `\"facetious\"`. We found a total of 14 matches."
   ]
  },
  {
   "cell_type": "code",
   "execution_count": null,
   "metadata": {},
   "outputs": [],
   "source": [
    "import re\n",
    "\n",
    "# Change me to another file location if you've downloaded a copy of the word list.\n",
    "# Recall that this file has one word per line.\n",
    "FILENAME = '/usr/share/dict/words'\n",
    "pattern = re.compile('your-regular-expression-here')\n",
    "\n",
    "# TODO(you): Print out any words that have five vowels in order."
   ]
  },
  {
   "cell_type": "markdown",
   "metadata": {},
   "source": [
    "#### Regex Crossword Checker\n",
    "\n",
    "Take a moment to play one round of [Regex Crossword](https://regexcrossword.com/) (a highly entertaining site, if you've got hours to spare).\n",
    "\n",
    "In the spirit of Regex Crossword, we will write a function that checks arbitrary regex crosswords. Your function should take in two lists, one representing horizontal clues and one representing vertical clues, as well as the potential solution to crossword in the form a list-of-lists in row-major order (i.e. the elements are lists representing rows of the crossword. You should return whether or not the potential solution is in fact valid.\n",
    "\n",
    "```Python\n",
    "def regex_crossword_check(horizontal_patterns, vertical_patterns, candidate):\n",
    "    pass  # Your implementation here\n",
    "```\n",
    "\n",
    "For example, the call corresponding to the first \"Beginner\" puzzle (it's called \"Beatles\") would look like:\n",
    "\n",
    "```Python\n",
    "horiz = [r'HE|LL|O+', r'[PLEASE]+']\n",
    "vert = [r'[^SPEAK]+', r'EP|IP|EF']\n",
    "candidate = [\n",
    "    ['H', 'E'],\n",
    "    ['L', 'P']\n",
    "]\n",
    "regex_crossword_check(horiz, vert, candidate)  # => True\n",
    "```\n",
    "\n",
    "and the call corresponding to the second \"Experiences\" puzzle (it's called \"Royal Dinner\") would look like:\n",
    "\n",
    "```Python\n",
    "horiz = [r'(Y|F)(.)\\2[DAF]\\1', r'(U|O|I)*T[FRO]+', r'[KANE]*[GIN]*']\n",
    "vert = [r'(FI|A)+', r'(YE|OT)K', r'(.)[IF]+', r'[NODE]+', r'(FY|F|RG)+']\n",
    "candidate = [\n",
    "    ['F', 'O', 'O', 'D', 'F'],\n",
    "    ['I', 'T', 'F', 'O', 'R'],\n",
    "    ['A', 'K', 'I', 'N', 'G']\n",
    "]\n",
    "regex_crossword_check(horiz, vert, candidate)  # => True\n",
    "```\n",
    "\n",
    "Some implementation notes:\n",
    "\n",
    "* You may want to use `re.fullmatch` instead of `re.match` or `re.search`. The former matches a pattern string against an entire string, whereas the latter methods check to see if any prefix string or any substring, respectively, match the pattern.\n",
    "* You can get the width and height of the crossword from the length of the vertical and horizontal clue lists, respectively.\n",
    "* Remember your friend, `zip`!"
   ]
  },
  {
   "cell_type": "code",
   "execution_count": null,
   "metadata": {},
   "outputs": [],
   "source": [
    "import re\n",
    "import string\n",
    "\n",
    "\n",
    "def regex_crossword_check(horizontal_patterns, vertical_patterns, candidate):\n",
    "    pass  # Your implementation \n",
    "\n",
    "\n",
    "# Quick tests.\n",
    "horiz = [r'HE|LL|O+', r'[PLEASE]+']\n",
    "vert = [r'[^SPEAK]+', r'EP|IP|EF']\n",
    "candidate = [\n",
    "    ['H', 'E'],\n",
    "    ['L', 'P']\n",
    "]\n",
    "print(regex_crossword_check(horiz, vert, candidate))  # => True\n",
    "\n",
    "\n",
    "horiz = [r'(Y|F)(.)\\2[DAF]\\1', r'(U|O|I)*T[FRO]+', r'[KANE]*[GIN]*']\n",
    "vert = [r'(FI|A)+', r'(YE|OT)K', r'(.)[IF]+', r'[NODE]+', r'(FY|F|RG)+']\n",
    "candidate = [\n",
    "    ['F', 'O', 'O', 'D', 'F'],\n",
    "    ['I', 'T', 'F', 'O', 'R'],\n",
    "    ['A', 'K', 'I', 'N', 'G']\n",
    "]\n",
    "print(regex_crossword_check(horiz, vert, candidate))  # => True"
   ]
  },
  {
   "cell_type": "markdown",
   "metadata": {},
   "source": [
    "#### Regex Crossword Solver (challenge)\n",
    "\n",
    "This problem is hard - skip it unless you're feeling up for an algorithmic challenge.\n",
    "\n",
    "Write a function to solve arbitrary regular expression crosswords.\n",
    "\n",
    "Your function should take in two lists, one representing horizontal clues and one representing vertical clues, as well as a keyword argument representing the possible alphabet. Return (or lazily generate) a list of all answers consistent with the constraints, where an answer is formed by joining the characters in row-major order (consistent with their website).\n",
    "\n",
    "```Python\n",
    "import re\n",
    "import string\n",
    "def regex_crossword_solve(horizontal_patterns, vertical_patterns, alphabet=string.ascii_uppercase):\n",
    "    pass\n",
    "```\n",
    "\n",
    "For example, the call corresponding to the first \"Beginner\" puzzle (it's called \"Beatles\") would look like:\n",
    "\n",
    "```Python\n",
    "horiz = [r'HE|LL|O+', r'[PLEASE]+']\n",
    "vert = [r'[^SPEAK]+', r'EP|IP|EF']\n",
    "regex_crossword_solve(horiz, vert)\n",
    "```\n",
    "\n",
    "and would return the final answer `['HELP']` derived from the (unique, in this case) solution `[['H', 'E'], ['L', 'P']]`. If there are multiple answers, return them all."
   ]
  },
  {
   "cell_type": "code",
   "execution_count": null,
   "metadata": {},
   "outputs": [],
   "source": [
    "import re\n",
    "import string\n",
    "\n",
    "\n",
    "def regex_crossword_solve(horizontal_patterns, vertical_patterns, alphabet=string.ascii_uppercase):\n",
    "    pass\n",
    "\n",
    "\n",
    "# Quick test.\n",
    "horiz = [r'HE|LL|O+', r'[PLEASE]+']\n",
    "vert = [r'[^SPEAK]+', r'EP|IP|EF']\n",
    "print(regex_crossword_solve(horiz, vert))"
   ]
  },
  {
   "cell_type": "markdown",
   "metadata": {},
   "source": [
    "#### Multidirectional (super challenge)\n",
    "\n",
    "If you look though the Regex Crossword site linked above, you'll see that some puzzles (starting from \"Double Cross\" onwards), support multiple directions. Update your function above to work first with bidirection clues (as in \"Double Cross\", \"Cities\", \"Volapük\", and \"Hamlet\"). If you finish that, see if you can solve the types of puzzles shown in \"Hexagonal.\""
   ]
  },
  {
   "cell_type": "code",
   "execution_count": null,
   "metadata": {},
   "outputs": [],
   "source": [
    "import re\n",
    "import string\n",
    "\n",
    "\n",
    "def regex_crossword_solve_multidimensional(horizontal_patterns_lr, vertical_patterns_tb, horizontal_patterns_rl, vertical_patterns_bt, alphabet=string.ascii_uppercase):\n",
    "    pass"
   ]
  },
  {
   "cell_type": "markdown",
   "metadata": {},
   "source": [
    "#### Minimal Regex (super challenge)\n",
    "\n",
    "Given a finite set of positive samples and a finite set of negative examples, can we build a regular expression that matches the positives but rejects the negatives? Of course! We could just explicitly include the positives and explicitly reject the negatives. However, this approach leads to regexes that are quite long. For this part, write an algorithm that approximately generates the smallest regular expression that matches a list of positive samples and rejects a list of negative samples. Our metric for smallest will default to shortest, but feel free to come up with your own metric.\n",
    "\n",
    "*Note: this problem is NP-hard, and is tied to some deep results in complexity theory. For more information, check out [this CSTheory.SE post](http://cstheory.stackexchange.com/questions/1854/is-finding-the-minimum-regular-expression-an-np-complete-problem)*"
   ]
  },
  {
   "cell_type": "code",
   "execution_count": null,
   "metadata": {},
   "outputs": [],
   "source": [
    "import re\n",
    "import string\n",
    "\n",
    "# This is a super challenging problem!\n",
    "def minimal_regex(positives, negatives):\n",
    "    pass"
   ]
  },
  {
   "cell_type": "markdown",
   "metadata": {},
   "source": [
    "### Working with `itertools`\n",
    "\n",
    "**Before continuing, make sure you read all of the [`itertools` documentation](https://docs.python.org/3/library/itertools.html).**"
   ]
  },
  {
   "cell_type": "markdown",
   "metadata": {},
   "source": [
    "#### Tabulation\n",
    "\n",
    "Write a `tabulate` function to generate a computation lookup table. `tabulate` should take in three arguments, a function, a start number (default 0), and a step size (default 1)\n",
    "\n",
    "```Python\n",
    "def tabulate(f, start=0, step=1):\n",
    "    pass\n",
    "```\n",
    "\n",
    "This function can be used as follows:\n",
    "\n",
    "```Python\n",
    "sqgen = tabulate(lambda x: x ** 2)\n",
    "next(sqgen)  # => 0 (which is equal to f(0))\n",
    "next(sqgen)  # => 1 (which is equal to f(1))\n",
    "next(sqgen)  # => 4 (which is equal to f(2))\n",
    "next(sqgen)  # => 9 (which is equal to f(3))\n",
    "```\n",
    "\n",
    "For reference, our implmentation is one line and 43 characters.\n",
    "\n",
    "Hint: take a look at the `itertools.count` function!"
   ]
  },
  {
   "cell_type": "code",
   "execution_count": null,
   "metadata": {},
   "outputs": [],
   "source": [
    "import itertools\n",
    "\n",
    "\n",
    "def tabulate(f, start=0, step=1):\n",
    "    pass\n",
    "\n",
    "\n",
    "sqgen = tabulate(lambda x: x ** 2)\n",
    "print(next(sqgen))  # => 0 (which is equal to f(0))\n",
    "print(next(sqgen))  # => 1 (which is equal to f(1))\n",
    "print(next(sqgen))  # => 4 (which is equal to f(2))\n",
    "print(next(sqgen))  # => 9 (which is equal to f(3))"
   ]
  },
  {
   "cell_type": "markdown",
   "metadata": {},
   "source": [
    "### JSON\n",
    "\n",
    "**Before continuing, make sure you read the [`json` documentation](https://docs.python.org/3/library/json.html) through \"Basic Usage.\"**\n",
    "\n",
    "Think of any broad topic that interests you. Spend a few minutes on the internet looking for a JSON file that has data that is related to your interest. If you can, download this data as a `.json` file and load it up in Python. Can you print out any information about this data set?\n",
    "\n",
    "For example, you can get the current posts on the `/r/wallpapers` subreddit by visiting `https://www.reddit.com/r/wallpapers.json`.\n",
    "\n",
    "The U.S. Government also makes JSON datasets publicly available at `https://catalog.data.gov/dataset?res_format=JSON`."
   ]
  },
  {
   "cell_type": "code",
   "execution_count": null,
   "metadata": {},
   "outputs": [],
   "source": [
    "import json\n",
    "\n",
    "JSON_FILE = 'my-downloaded-file.json'  # Rename me after downloading a file.\n",
    "\n",
    "# Load the JSON file into a Python data structure.\n",
    "\n",
    "# Process something about the data."
   ]
  },
  {
   "cell_type": "markdown",
   "metadata": {},
   "source": [
    "### `random`\n",
    "\n",
    "**Before continuing, make sure you read the [`random` documentation](https://docs.python.org/3/library/random.html) through \"Functions for Sequences.\"**\n",
    "\n",
    "There's no code in this section - just read the documentation! It's rather short."
   ]
  },
  {
   "cell_type": "markdown",
   "metadata": {},
   "source": [
    "### Using `sys` for command-line tools."
   ]
  },
  {
   "cell_type": "markdown",
   "metadata": {},
   "source": [
    "#### Addition\n",
    "\n",
    "Write a Python script `add.py` (a new file) that can be run on the command line with any number of additional arguments representing numbers that you want to add up. Your script should print the sum of numeric arguments. If there are arguments that can't be converted to floats, ignore them. You can use what we learned about exceptional control flow to determine if a number is convertible to a float. If there are no additional arguments to your script, you should print an error message and exit.\n",
    "\n",
    "Recall you can use `sys.argv` to access the command-line arguments.\n",
    "\n",
    "You should be able to invoke your script from the command line as follows:\n",
    "\n",
    "```\n",
    "(cs41-env)$ python add.py 4 1\n",
    "5.0\n",
    "(cs41-env)$ python add.py 17 38 \"Hey wassup\" \"hello\"\n",
    "55.0\n",
    "(cs41-env)$ python add.py 8 6 7 5 3 0 9\n",
    "38.0\n",
    "(cs41-env)$ python add.py\n",
    "Usage: python add.py <nums>\n",
    "    \n",
    "    Add some numbers together\n",
    "```\n",
    "\n",
    "##### Argument Parsing with `argparse`\n",
    "\n",
    "Python's [`argparse` module](https://docs.python.org/3/library/argparse.html) provides a nicer way to define scripts that accept commmand-line arguments. Read through the `argparse` documentation and then rewrite the above program using the tools provided by `argparse`."
   ]
  },
  {
   "cell_type": "markdown",
   "metadata": {},
   "source": [
    "#### `tree` (challenge)\n",
    "\n",
    "Write a program that emulates the command-line utility `tree`, which pretty-prints the directory structure rooted by an argument name. If there is no argument, use the current working directory. For example,\n",
    "\n",
    "```\n",
    "$ python3 tree.py python-labs/\n",
    "python-labs/\n",
    "├── LICENSE\n",
    "├── NOTES.md\n",
    "├── README.md\n",
    "├── markdown\n",
    "│   ├── lab1-warmup.md\n",
    "│   ├── lab2-datastructures.md\n",
    "│   ├── lab3-functions.md\n",
    "│   ├── lab4-fp.md\n",
    "│   ├── lab5-oop.md\n",
    "│   ├── lab6-standardlibrary.md\n",
    "│   ├── lab7-thirdparty.md\n",
    "│   └── lab8-pythonecosystem.md\n",
    "└── notebooks\n",
    "    ├── lab1-warmup-notebook.ipynb\n",
    "    ├── lab2-datastructures-notebook.ipynb\n",
    "    ├── lab3-functions-notebook.ipynb\n",
    "    ├── lab4-fp-notebook.ipynb\n",
    "    ├── lab5-oop-notebook.ipynb\n",
    "    ├── lab6-standardibrary-notebook.ipynb\n",
    "    ├── lab7-thirdparty-notebook.ipynb\n",
    "    └── lab8-pythonecosystem-notebook.ipynb\n",
    "```\n",
    "\n",
    "The above is just an example - don't worry if your actual `python-labs/` directory doesn't look like this.\n",
    "\n",
    "Use the [`pathlib` library](https://docs.python.org/3/library/pathlib.html) for filesystem navigation. For implementation details, check out `tree`'s [man page](http://linux.die.net/man/1/tree) or this [more helpful description](http://www.computerhope.com/unix/tree.htm). You don't need to implement any of the command-line flags for this part - just focus on navigating the file system."
   ]
  },
  {
   "cell_type": "markdown",
   "metadata": {},
   "source": [
    "#### Improving `tree` (super challenge)\n",
    "\n",
    "Update your `tree` program to handle more advanced use cases, listed in the man page above. Can you handle symbolic links, maximum depth recursion, or pattern matching?\n",
    "\n",
    "You can make this tool as powerful as you'd like."
   ]
  },
  {
   "cell_type": "markdown",
   "metadata": {},
   "source": [
    "### All Together Now\n",
    "\n",
    "This final problem will incorporate all of the modules we've seen so far. We'll build a tool to determine the shortest airport journey between any two airports."
   ]
  },
  {
   "cell_type": "markdown",
   "metadata": {},
   "source": [
    "#### Airport Data\n",
    "First, let's look at our data. OpenFlights publishes the following data files:\n",
    "\n",
    "* [Airlines](https://raw.githubusercontent.com/jpatokal/openflights/master/data/airlines.dat)\n",
    "* [Airports](https://raw.githubusercontent.com/jpatokal/openflights/master/data/airports.dat)\n",
    "* [Routes](https://raw.githubusercontent.com/jpatokal/openflights/master/data/routes.dat)\n",
    "\n",
    "For information about the data itself, [DataHub](https://datahub.io/dataset/open-flights) has a good writeup on the schema.\n",
    "\n",
    "The information [by OpenFlights itself](https://openflights.org/data.html) is also quite good for getting an overview of the data."
   ]
  },
  {
   "cell_type": "markdown",
   "metadata": {},
   "source": [
    "You will write a script that, when given two airport codes (like SFO and JFK) and a maximum segment count, prints all possible ways to get from the source airport to the destination airport in at most that many segments:\n",
    "\n",
    "```\n",
    "$ python3 flights.py SFO JFK 2\n",
    "SFO -> JFK\n",
    "SFO -> LAX -> JFK\n",
    "SFO -> ORD -> JFK\n",
    "SFO -> DFW -> JFK\n",
    "...\n",
    "SFO -> PDX -> JFK\n",
    "```\n",
    "\n",
    "How powerful can you make this script? Consider adding extra features that utilize all of the standard library modules we've seen here."
   ]
  },
  {
   "cell_type": "markdown",
   "metadata": {},
   "source": [
    "### Cute Modules"
   ]
  },
  {
   "cell_type": "markdown",
   "metadata": {},
   "source": [
    "#### `turtle` - Turtle graphics\n",
    "\n",
    "Run the following code. A graphical window should appear that shows your new turtle friend! What other interesting shapes can you make?"
   ]
  },
  {
   "cell_type": "code",
   "execution_count": null,
   "metadata": {},
   "outputs": [],
   "source": [
    "import turtle\n",
    "\n",
    "turtle.left(180)\n",
    "turtle.forward(200)\n",
    "turtle.left(180)\n",
    "\n",
    "turtle.color('red', 'yellow')\n",
    "turtle.begin_fill()\n",
    "\n",
    "for _ in range(36):\n",
    "    turtle.forward(400)\n",
    "    turtle.left(170)\n",
    "    if abs(turtle.pos()) < 1:\n",
    "        break\n",
    "\n",
    "turtle.end_fill()\n",
    "turtle.done()"
   ]
  },
  {
   "cell_type": "markdown",
   "metadata": {},
   "source": [
    "#### `unicodedata` - Unicode Database\n",
    "\n",
    "Think about your favorite emoji. Can you guess its official name?"
   ]
  },
  {
   "cell_type": "code",
   "execution_count": null,
   "metadata": {},
   "outputs": [],
   "source": [
    "import unicodedata\n",
    "\n",
    "print(unicodedata.lookup('SLICE OF PIZZA'))  # => '🍕'\n",
    "\n",
    "print(unicodedata.name('👌'))  # => 'OK HAND SIGN'"
   ]
  },
  {
   "cell_type": "markdown",
   "metadata": {},
   "source": [
    "#### `this` and `antigravity`\n",
    "\n",
    "Just run the following lines of code."
   ]
  },
  {
   "cell_type": "code",
   "execution_count": null,
   "metadata": {},
   "outputs": [],
   "source": [
    "import this"
   ]
  },
  {
   "cell_type": "code",
   "execution_count": null,
   "metadata": {},
   "outputs": [],
   "source": [
    "import antigravity"
   ]
  },
  {
   "cell_type": "markdown",
   "metadata": {},
   "source": [
    "## Import Semantics\n",
    "\n",
    "If you've made it through this far, congratulations! This was a long lab. If you're interested in the nitty-gritty details of Python's import mechanics, you can read through the [specification of the import system in the official language reference](https://docs.python.org/3/reference/import.html). It's a fairly long read but it can precisely answer any lingering questions you might have about exactly how Python imports modules and packages."
   ]
  },
  {
   "cell_type": "markdown",
   "metadata": {},
   "source": [
    "> With <3 by @sredmond"
   ]
  }
 ],
 "metadata": {
  "kernelspec": {
   "display_name": "Python 3",
   "language": "python",
   "name": "python3"
  },
  "language_info": {
   "codemirror_mode": {
    "name": "ipython",
    "version": 3
   },
   "file_extension": ".py",
   "mimetype": "text/x-python",
   "name": "python",
   "nbconvert_exporter": "python",
   "pygments_lexer": "ipython3",
   "version": "3.7.2"
  }
 },
 "nbformat": 4,
 "nbformat_minor": 2
}
