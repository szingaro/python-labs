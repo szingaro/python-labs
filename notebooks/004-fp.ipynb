{
 "cells": [
  {
   "cell_type": "markdown",
   "metadata": {},
   "source": [
    "# Lab 4: Functional Programming"
   ]
  },
  {
   "cell_type": "markdown",
   "metadata": {},
   "source": [
    "## Overview\n",
    "In this lab, you will explore functional programming's place in the Python landscape, and gain practice with powerful tools like `map`, `filter`, iterators, generators, and decorators.\n",
    "\n",
    "*Surprisingly, a few people have asked for longer labs - we think we've delivered! We've added lots of challenge problems to this lab, many of which are domain-specific, but we don't expect you to complete them all. If you're short on time, or don't know exactly what a challenge problem is asking, skip it! Challenge problems are intended to be challenging, and should be reserved only for when you've finished the rest of the lab.*"
   ]
  },
  {
   "cell_type": "markdown",
   "metadata": {},
   "source": [
    "## Functional Tools"
   ]
  },
  {
   "cell_type": "markdown",
   "metadata": {},
   "source": [
    "### Lambdas\n",
    "\n",
    "Recall that lambda functions are anonymous, unnamed function objects created on the fly, usually to accomplish a small transformation. For example,\n",
    "\n",
    "```Python\n",
    "(lambda val: val ** 2)(5)  # => 25\n",
    "(lambda x, y: x * y)(3, 8)  # => 24\n",
    "(lambda s: s.strip().lower()[:2])('  PyTHon')  # => 'py'\n",
    "```\n",
    "\n",
    "On their own, `lambda`s aren't particularly useful, as demonstrated above, and are almost never created and invoked directly as shown. Usually, `lambda`s are used to avoid creating a formal function definiton for small throwaway functions, not only because they involves less typing (no `def` or `return` statement needed) but also, and perhaps more importantly, because these small functions won't pollute the enclosing namespace and provide the function implementation inline.\n",
    "\n",
    "Lambdas are also frequently used as arguments to or return values from higher-order functions, such as `map` and `filter`."
   ]
  },
  {
   "cell_type": "markdown",
   "metadata": {},
   "source": [
    "### Map\n",
    "\n",
    "Recall from class that `map(func, iterable)` applies a function over elements of an iterable.\n",
    "\n",
    "For each of the following rows, write a single statement using `map` that converts the left column into the right column:\n",
    "\n",
    "| From  | To| \n",
    "| --- | --- | \n",
    "| `['12', '-2', '0']` | `[12, -2, 0]` |\n",
    "| `['hello', 'world']`  | `[5, 5]` |\n",
    "| `['hello', 'world']`|`['olleh', 'dlrow']` |\n",
    "| `range(2, 6)`|`[(2, 4, 8), (3, 9, 27), (4, 16, 64), (5, 25, 125)]` |\n",
    "| `zip(range(2, 5), range(3, 9, 2))`|`[6, 15, 28]` |\n",
    "\n",
    "*Hint: you may need to wrap the output in a `list()` constructor to see it printed to console - that is, `list(map(..., ...))`*"
   ]
  },
  {
   "cell_type": "code",
   "execution_count": null,
   "metadata": {},
   "outputs": [],
   "source": [
    "# Write `map` expressions to convert the following inputs into the indicated outputs.\n",
    "# ['12', '-2', '0'] --> [12, -2, 0]\n",
    "\n",
    "# ['hello', 'world'] --> [5, 5]\n",
    "\n",
    "# ['hello', 'world']` --> ['olleh', 'dlrow']\n",
    "\n",
    "# range(2, 6) --> [(2, 4, 8), (3, 9, 27), (4, 16, 64), (5, 25, 125)]\n",
    "\n",
    "# zip(range(2, 5), range(3, 9, 2)) --> [6, 15, 28]\n"
   ]
  },
  {
   "cell_type": "markdown",
   "metadata": {},
   "source": [
    "#### Using Multiple Iterables\n",
    "The `map` function can accept a variable number of iterables as arguments. Thus, `map(func, iterA, iterB, iterC)` is equivalent to `map(func, zip(iterA, iterB, iterC))`. This can be used as follows:\n",
    "\n",
    "```Python\n",
    "map(int, ('101001', '0xCAFE', '42'), (2, 16, 10))  # generates 41, 51966, 42\n",
    "```\n",
    "\n",
    "To generate each of these elements, Python will evaluate: `int('10110', 2)`, then `int('0xCAFE', 16)`, and finally `int('42', 10)`.\n",
    "\n",
    "*This works because* `int` *takes an optional second argument specifying the conversion base*"
   ]
  },
  {
   "cell_type": "markdown",
   "metadata": {},
   "source": [
    "### Filter\n",
    "\n",
    "Recall from class that `filter(pred, iterable)` keeps only those elements from an iterable that satisfy a predicate function.\n",
    "\n",
    "Write statements using `filter` that convert the following sequences from the left column to the right column:\n",
    "\n",
    "From  | To\n",
    "--- | ---\n",
    "`['12', '-2', '0']` | `['12', '0']`\n",
    "`['hello', 'world']`  | `['world']`\n",
    "`['Stanford', 'Cal', 'UCLA']`|`['Stanford']`\n",
    "`range(20)`|`[0, 3, 5, 6, 9, 10, 12, 15, 18]`\n",
    "\n",
    "As before, you may have to wrap the result in a call to `list(...)` to produce the filtered output."
   ]
  },
  {
   "cell_type": "code",
   "execution_count": null,
   "metadata": {},
   "outputs": [],
   "source": [
    "# Write `filter` expressions to convert the following inputs into the indicated outputs.\n",
    "# ['12', '-2', '0'] --> ['12', '0']\n",
    "\n",
    "# ['hello', 'world'] --> ['world']\n",
    "\n",
    "# ['Stanford', 'Cal', 'UCLA'] --> ['Stanford']\n",
    "\n",
    "# range(20) --> [0, 3, 5, 6, 9, 10, 12, 15, 18]\n"
   ]
  },
  {
   "cell_type": "markdown",
   "metadata": {},
   "source": [
    "### Useful Tools from the Standard Library (optional)"
   ]
  },
  {
   "cell_type": "markdown",
   "metadata": {},
   "source": [
    "#### Module: `functools`\n",
    "The `functools` module is a module in the standard library \"for higher order functions; functions that act on or return other functions.\"\n",
    "\n",
    "There is a utility in the `functools` module called `reduce`, which in Python 2.x was a builtin language feature but has since been relegated to this module. The `reduce` function is explained best by the [official documentation](https://docs.python.org/3/library/functools.html#functools.reduce):\n",
    "\n",
    "##### `functools.reduce(function, iterable[, initializer])`\n",
    "> Apply `function` of two arguments cumulatively to the items of `iterable`, from left to right, so as to reduce the iterable to a single value. For example, `functools.reduce(lambda x, y: x + y, [1, 2, 3, 4, 5])` calculates `((((1 + 2) + 3) + 4) + 5)`. The left argument, `x`, is the accumulated value and the right argument, `y`, is the update value from the sequence. If the optional `initializer` is present, it is placed before the items of the sequence in the calculation, and serves as a default when the iterable is empty. If `initializer` is not given and `iterable` contains only one item, the first item is returned.\n",
    "\n",
    "Use the `reduce` function to find the least common multiple (LCM) of an arbitrary amount of positive integer arguments. This can be accomplished in one line of Python. If no numbers are supplied to the function, you can return the value 1.\n",
    "\n",
    "Hint: Recall that, mathematically, the LCM of two numbers `x` and `y` can be expressed as `(x*y) // gcd(x, y)`, and that the LCM of a list of numbers `[x, y, z, ...]` is the same as the `LCM(...(LCM(LCM(x, y), z), ...)`."
   ]
  },
  {
   "cell_type": "code",
   "execution_count": null,
   "metadata": {},
   "outputs": [],
   "source": [
    "from functools import reduce\n",
    "from math import gcd\n",
    "\n",
    "def lcm(*nums):\n",
    "    \"\"\"Return the least common multiple of an arbitrary collection of numbers.\"\"\"\n",
    "    pass # Your implementation here. Use `reduce`. This function can be implemented in only one line!\n",
    "\n",
    "print(lcm(3, 5))\n",
    "print(lcm(41, 106, 12))\n",
    "print(lcm(1, 2, 6, 24, 120, 720))\n",
    "print(lcm(3))\n",
    "print(lcm())"
   ]
  },
  {
   "cell_type": "markdown",
   "metadata": {},
   "source": [
    "#### Module: `operator`\n",
    "\n",
    "Frequently, you might find yourself writing anonymous functions similar to `lambda x, y: x + y`. This feels a little redundant, since Python already knows how to add two values together. Unfortunately, we can't just refer to `+` as a function - it's a builtin syntax element. To solve this problem, The `operator` module exports callable functions for each builtin operation. These operators can simplify some common uses of lambdas, and should be used wherever possible, since in almost all cases they are faster than constructing and repeatedly invoking a lambda function.\n",
    "\n",
    "```Python\n",
    "import operator\n",
    "operator.add(1, 2)  # => 3\n",
    "operator.mul(3, 10)  # => 30\n",
    "operator.pow(2, 3)  # => 8\n",
    "operator.itemgetter(1)([1, 2, 3]) # => 2\n",
    "```\n",
    "\n",
    "Take a moment to skim over the [official documentation for the `operator` module](https://docs.python.org/3/library/operator.html).\n",
    "\n",
    "Next, use `reduce` in conjunction with a function from the `operator` module to compute factorials in one line of Python. For example, to compute `5!`, try computing `(((1 * 2) * 3) * 4) * 5` using `reduce` and the `operator` module!"
   ]
  },
  {
   "cell_type": "code",
   "execution_count": null,
   "metadata": {},
   "outputs": [],
   "source": [
    "import operator\n",
    "from functools import reduce\n",
    "\n",
    "def fact(n):\n",
    "    \"\"\"Return the factorial of a positive number.\"\"\"\n",
    "    # Your implementation here: Use reduce, an operator, and only one line!\n",
    "\n",
    "fact(3)  # => 6\n",
    "fact(7)  # => 5040"
   ]
  },
  {
   "cell_type": "markdown",
   "metadata": {},
   "source": [
    "#### Custom comparison for `sort`, `max`, and `min`\n",
    "\n",
    "When ordering sequences, or finding the largest or smallest element of a sequence, Python defaults to a standard ordering for sequence elements of certain types. For instance, a collection of strings will be sorted alphabetically (by ASCII value), and a collection of tuples will sort lexicographically. Sometimes, however, we need to sort based on a custom key value. In Python, we can supply an optional `key` argument to `sorted(seq)`, `max(seq)`, `min(seq)`, or `seq.sort()` to determine the values used for ordering elements in a sequence. In Python, both `sorted(seq)` and `seq.sort()` are stable.\n",
    "\n",
    "Read the following code examples and see if you can justify to your neighbor why Python produces the answers it does in these cases.\n",
    "\n",
    "```Python\n",
    "words = ['pear', 'cabbage', 'apple', 'bananas']\n",
    "min(words)  # => 'apple'\n",
    "words.sort(key=lambda s: s[-1])  # Alternatively, key=operator.itemgetter(-1)\n",
    "words  # => ['cabbage', 'apple', 'pear', 'bananas'] ... Why 'cabbage' > 'apple'?\n",
    "max(words, key=len)  # 'cabbage' ... Why not 'bananas'?\n",
    "min(words, key=lambda s: s[1::2])  # What will this value be?\n",
    "```\n",
    "\n",
    "Next, write a function to return the two words with the highest alphanumeric score of uppercase letters. We've provided a function that computes the alphanumeric score of supplied letters, which must be a string containing only uppercase letters. You may want to use `filter` in conjunction with any other functions we've seen."
   ]
  },
  {
   "cell_type": "code",
   "execution_count": null,
   "metadata": {},
   "outputs": [],
   "source": [
    "def alpha_score(upper_letters):\n",
    "    \"\"\"Return the alphanumeric sum of letters in a string, where A == 1 and Z == 26.\n",
    "    \n",
    "    The argument upper_letters must be composed entirely of capital letters.\n",
    "    \"\"\"\n",
    "    return sum(map(lambda l: 1 + ord(l) - ord('A'), upper_letters))\n",
    "\n",
    "print(alpha_score('ABC'))  # => 6 = 1 ('A') + 2 ('B') + 3 ('C')\n",
    "\n",
    "def two_best(words):\n",
    "    \"\"\"Return the two words whose alphanumeric score of uppercase letters is the highest.\"\"\"\n",
    "    pass  # Your implementation here\n",
    "\n",
    "two_best(['hEllO', 'wOrLD', 'i', 'aM', 'PyThOn'])"
   ]
  },
  {
   "cell_type": "markdown",
   "metadata": {},
   "source": [
    "## Purely Functional Programming (optional)\n",
    "\n",
    "As an academic thought exercise, let's investigate how we would use Python in a purely functional programming paradigm. Ultimately, we will try to remove statements and replace them with expressions."
   ]
  },
  {
   "cell_type": "markdown",
   "metadata": {},
   "source": [
    "### Replacing Control Flow\n",
    "\n",
    "The first thing that needs to go are control flow statements - `if/elif/else`. Luckily, Python, like many other languages, short circuits boolean expressions. This means that we can rewrite\n",
    "\n",
    "```Python\n",
    "if <cond1>:   func1()\n",
    "elif <cond2>: func2()\n",
    "else:         func3()\n",
    "```\n",
    "\n",
    "as the equivalent expression\n",
    "\n",
    "```Python\n",
    "(<cond1> and func1()) or (<cond2> and func2()) or (func3())\n",
    "```\n",
    "\n",
    "Recalling Python's rules for short-circuiting boolean expressions, why does the above expression (usually) result in the same output as the procedural control flow case?\n",
    "\n",
    "Note: The above works if and only if all of the functions return truthy values. In order to guarantee that these expressions are actually the same, you might have to write something like the following, because all two-element tuples are truthy regardless of their content.\n",
    "\n",
    "```Python\n",
    "((<cond1> and (func1(), 0)) or (<cond2> and (func1(), 0)) or ((func1(), 0)))[0]\n",
    "```\n",
    "\n",
    "Rewrite the following code block without using `if/elif/else`:\n",
    "\n",
    "```Python\n",
    "if score == 1:\n",
    "    return \"Winner\"\n",
    "elif score == -1:\n",
    "    return \"Loser\"\n",
    "else:\n",
    "    return \"Tied\"\n",
    "```"
   ]
  },
  {
   "cell_type": "code",
   "execution_count": null,
   "metadata": {},
   "outputs": [],
   "source": [
    "# Purely-functional control flow.\n",
    "def result(score):\n",
    "    return ...  # Your implementation here."
   ]
  },
  {
   "cell_type": "markdown",
   "metadata": {},
   "source": [
    "### Replacing Returns\n",
    "\n",
    "However, in the above function, we still need return values to do anything useful. Since lambdas implicitly return their expression, we will use lambdas to eliminate return statements. We can bind our temporary conditional conjunctive normal form expressions (which replace if/elif/else statements) to a lambda function.\n",
    "\n",
    "```Python\n",
    "echo = lambda arg: arg  # In practice, you should never bind lambdas to local names\n",
    "cond_fn = lambda score: (x==1 and echo(\"one\")) \\\n",
    "                 or (x==2 and echo(\"two\")) \\\n",
    "                 or (echo(\"other\"))\n",
    "```\n",
    "Now, we've gotten rid of ever having to use the `return` keyword."
   ]
  },
  {
   "cell_type": "markdown",
   "metadata": {},
   "source": [
    "### Replacing Loops\n",
    "\n",
    "Getting rid of loops is easy! We can `map` over a sequence instead of looping over the sequence. For example:\n",
    "\n",
    "```Python\n",
    "for e in lst:\n",
    "    func(e)\n",
    "```\n",
    "\n",
    "becomes\n",
    "\n",
    "```Python\n",
    "map(func, lst)\n",
    "```\n",
    "\n",
    "This is exactly the sort of high-level abstraction we discussed in class this week, where we describe the operation of a function over a collection instead of over elements."
   ]
  },
  {
   "cell_type": "markdown",
   "metadata": {},
   "source": [
    "### Replacing Action Sequence\n",
    "Most programs take the form a sequence of steps, written out line by line. By using a `just_do_it` function and `map`, we can replicate a sequence of function calls.\n",
    "\n",
    "```Python\n",
    "just_do_it = lambda f: f()\n",
    "\n",
    "# Suppose f1, f2, f3 are actions\n",
    "map(just_do_it, [f1, f2, f3])\n",
    "```\n",
    "\n",
    "Our main program execution can then be a single call to such a map expression.\n",
    "\n",
    "#### Note\n",
    "In fact, Python has `eval` and `exec` functions builtin, which behave somewhat like our `just_do_it` function. Don't use them! They are dangerous."
   ]
  },
  {
   "cell_type": "markdown",
   "metadata": {},
   "source": [
    "### Putting It All Together\n",
    "\n",
    "Consider the following program, which computes the number of ways to make change for some number of cents using an infinite supply of coins of specified denominations.\n",
    "\n",
    "```Python\n",
    "def make_change(target, coins):\n",
    "    if target == 0:\n",
    "        return 1\n",
    " \n",
    "    if not coins:\n",
    "        return 0\n",
    "    \n",
    "    increment = coins[0]\n",
    "\n",
    "    # If increment is 25c, try using 0c, 25c, 50c, ..., up to (and possibly including target)\n",
    "    total = 0\n",
    "    for choice in range(0, target + 1, increment):\n",
    "        total += make_change(target - choice, coins[1:])\n",
    "    return total\n",
    "\n",
    "make_change(9, [5, 1])  # 2 ways: 1 five and 4 ones, or 9 ones.\n",
    "make_change(31, [25, 10, 5, 1])  # 18 ways\n",
    "make_change(31, [25, 5, 1])  # 9 ways\n",
    "make_change(100, [100, 50, 25, 10, 5, 1])  # 293 ways\n",
    "```\n",
    "\n",
    "Rewriting this \"purely functionally\", we have\n",
    "\n",
    "```Python\n",
    "make_change = lambda target, coins: ((target == 0 and (1, 0)) or (not coins and (0, 0)) or (sum(map(lambda choice: make_change(target - choice, coins[1:]), range(0, target + 1, coins[0]))), 0))[0]\n",
    "\n",
    "# Suppose that the only top-level function we are \"allowed\" to call is apply_to.\n",
    "apply_to = lambda f, args, kwargs: f(*args, **kwargs)\n",
    "\n",
    "map(apply_to, (make_change, make_change, make_change, make_change), zip((9, 31, 31, 100), ((5, 1), (25, 10, 5, 1), (25, 5, 1), (100, 50, 25, 10, 5, 1))), ({}, {}, {}, {}))\n",
    "```\n",
    "\n",
    "There's a lot going on in this functional version of the same code!\n",
    "\n",
    "Fun fact: In a formal functional language that does not support recursion, we can introduce recursion by adding a special higher-order function called the Y-combinator."
   ]
  },
  {
   "cell_type": "markdown",
   "metadata": {},
   "source": [
    "### Summary\n",
    "Python supports functional programming paradigms, but as you can see, in some cases FP introduces unnecessary complexity.\n",
    "\n",
    "If you really enjoyed this section, read [Part 1](http://www.ibm.com/developerworks/linux/library/l-prog/index.html), [Part 2](http://www.ibm.com/developerworks/linux/library/l-prog2/index.html), and [Part 3](http://www.ibm.com/developerworks/linux/library/l-prog3/index.html) of IBM's articles on FP in Python.\n"
   ]
  },
  {
   "cell_type": "markdown",
   "metadata": {},
   "source": [
    "## Iterators\n",
    "\n",
    "Recall from class than an iterator is an object that represents a stream of data delivered one value at a time."
   ]
  },
  {
   "cell_type": "markdown",
   "metadata": {},
   "source": [
    "### Iterator Consumption\n",
    "Suppose the following two lines of code have been run:\n",
    "\n",
    "```Python\n",
    "it = iter(range(100))\n",
    "67 in it  # => True\n",
    "```\n",
    "\n",
    "What is the result of running each of the following lines of code?\n",
    "\n",
    "```Python\n",
    "next(it)  # => ??\n",
    "37 in it  # => ??\n",
    "next(it)  # => ??\n",
    "```\n",
    "\n",
    "With a partner, discuss why we see these results."
   ]
  },
  {
   "cell_type": "code",
   "execution_count": null,
   "metadata": {},
   "outputs": [],
   "source": [
    "it = iter(range(100))\n",
    "67 in it  # => True\n",
    "\n",
    "print(next(it))  # => ??\n",
    "print(37 in it)  # => ??\n",
    "print(next(it))  # => ??"
   ]
  },
  {
   "cell_type": "markdown",
   "metadata": {},
   "source": [
    "### Module: `itertools`\n",
    "\n",
    "Python ships with a spectacular module for manipulating iterators called `itertools`. Take a moment to read through the [documentation page for itertools](https://docs.python.org/3/library/itertools.html).\n",
    "\n",
    "Predict the output of the following pieces of code:\n",
    "\n",
    "```Python\n",
    "import itertools\n",
    "import operator\n",
    "\n",
    "for el in itertools.permutations('XKCD', 2):\n",
    "    print(el, end=', ')\n",
    "\n",
    "for el in itertools.cycle('LO'):\n",
    "    print(el, end='')  # Don't run this one. Why not?\n",
    "\n",
    "itertools.starmap(operator.mul, itertools.zip_longest([3,5,7],[2,3], fillvalue=1))\n",
    "```"
   ]
  },
  {
   "cell_type": "code",
   "execution_count": null,
   "metadata": {},
   "outputs": [],
   "source": [
    "import itertools\n",
    "import operator\n",
    "\n",
    "for el in itertools.permutations('XKCD', 2):\n",
    "    print(el, end=', ')\n",
    "print()\n",
    "\n",
    "# for el in itertools.cycle('LO'):\n",
    "#     print(el, end='')  # Don't run this one. Why not?\n",
    "\n",
    "print(list(itertools.starmap(operator.mul, itertools.zip_longest([3,5,7],[2,3], fillvalue=1))))"
   ]
  },
  {
   "cell_type": "markdown",
   "metadata": {},
   "source": [
    "### Linear Algebra (Challenge)\n",
    "\n",
    "These challenge problems test your ability to write compact Python functions using the tools of functional programming and some good old-fashioned cleverness. As always, these challenge problems are optional, and are much harder than the rest of the lab. These challenge problems also focus heavily on linear algebra, so if you are less familiar with linear algebra concepts, we recommend that you skip over this portion.\n",
    "\n",
    "Also, Python has incredible library support for working with these mathematical concepts through a package named `numpy`, so we will almost never write linear algebra code from scratch."
   ]
  },
  {
   "cell_type": "markdown",
   "metadata": {},
   "source": [
    "#### Dot Product\n",
    "Write a one-liner in Python that takes the dot product of two lists `u` and `v`. You can assume that the lists are the same size, and are standard Python lists (not anything special, like `numpy.ndarray`s). For example, `dot_product([1, 3, 5], [2, 4, 6])` should return `44` (since `1 * 2 + 3 * 4 + 5 * 6 = 44`)."
   ]
  },
  {
   "cell_type": "code",
   "execution_count": null,
   "metadata": {},
   "outputs": [],
   "source": [
    "def dot_product(u, v):\n",
    "    \"\"\"Return the dot product of two equal-length lists of numbers.\"\"\"\n",
    "    pass"
   ]
  },
  {
   "cell_type": "markdown",
   "metadata": {},
   "source": [
    "#### Matrix Transposition\n",
    "Write a one-liner in Python to transpose a matrix. Assume that the input matrix is a tuple-of-tuples that represents a valid matrix, not necessarily square. Again, do not use `numpy` or any other libraries - just raw data structure manipulation and our functional tools.\n",
    "\n",
    "Not only can you do this in one line - you can even do it in 14 characters!\n",
    "\n",
    "For example,\n",
    "\n",
    "```Python\n",
    "matrix = (\n",
    "    (1, 2, 3, 4),\n",
    "    (5, 6, 7, 8),\n",
    "    (9,10,11,12)\n",
    ")\n",
    "\n",
    "transpose(matrix)\n",
    "# returns \n",
    "# (\n",
    "#     (1, 5, 9),\n",
    "#     (2, 6, 10),\n",
    "#     (3, 7, 11),\n",
    "#     (4, 8, 12)\n",
    "# )\n",
    "```\n"
   ]
  },
  {
   "cell_type": "code",
   "execution_count": null,
   "metadata": {},
   "outputs": [],
   "source": [
    "def transpose(m):\n",
    "    \"\"\"Return the transpose of a matrix represented as a rectangular tuple-of-tuples.\"\"\"\n",
    "    pass"
   ]
  },
  {
   "cell_type": "markdown",
   "metadata": {},
   "source": [
    "#### Matrix Multiplication\n",
    "Write another one-liner in Python to take the product of two matrices `m1` and `m2`. You can use the `dot_product` and `transpose` functions you already wrote."
   ]
  },
  {
   "cell_type": "code",
   "execution_count": null,
   "metadata": {},
   "outputs": [],
   "source": [
    "def matmul(m1, m2):\n",
    "    \"\"\"Return the matrix multiplication of two matrices as rectangular 2D tuples.\"\"\"\n",
    "    pass"
   ]
  },
  {
   "cell_type": "markdown",
   "metadata": {},
   "source": [
    "#### Lazy Generation\n",
    "Rewrite your `transpose` and `matmul` functions above so that they are lazily evaluated. That is, rows (or columns) of the output matrix shouldn't be computed when the function is called."
   ]
  },
  {
   "cell_type": "markdown",
   "metadata": {},
   "source": [
    "## Generator Expressions\n",
    "\n",
    "Recall that generator expressions are a way to lazily compute values on the fly, without buffering the entire contents of the list in place.\n",
    "\n",
    "For each of the following scenarios, discuss with a partner whether it would be more appropriate to use a generator expression or a list comprehension:\n",
    "\n",
    "1. Searching for a given entity in the transformed entries of a 1TB (large!) database.\n",
    "2. Calculate cheap airfare using lots of journey-to-destination flight information.\n",
    "3. Finding the first palindromic Fibonacci number greater than 1,000,000.\n",
    "4. Determine all multi-word anagrams of user-supplied 1000-character-or-more strings (very expensive to do).\n",
    "5. Generate a list of names of Stanford students whose SUNet ID numbers are less than 5000000.\n",
    "6. Return a list of all startups within 50 miles of Stanford.\n",
    "\n",
    "The main takeaway is: if you only ever need to look at one element of the data stream at a time, generator expressions are probably the way to go."
   ]
  },
  {
   "cell_type": "markdown",
   "metadata": {},
   "source": [
    "## Generators"
   ]
  },
  {
   "cell_type": "markdown",
   "metadata": {},
   "source": [
    "### Triangle Generator\n",
    "\n",
    "Write a infinite generator that successively yields the triangle numbers `0, 1, 3, 6, 10, ...` which are formed by successively adding sequential positive integers (`3 = 1 + 2`, `6 = 1 + 2 + 3`, `10 = 1 + 2 + 3 + 4`, ...)."
   ]
  },
  {
   "cell_type": "code",
   "execution_count": null,
   "metadata": {},
   "outputs": [],
   "source": [
    "def generate_triangles():\n",
    "    \"\"\"Generate an infinite stream of triangle numbers.\"\"\"\n",
    "    pass  # Your implementation here\n",
    "\n",
    "g = generate_triangles()\n",
    "# Print the first 5 generated triangle numbers. Should be 0, 1, 3, 6, 10\n",
    "for _ in range(5):\n",
    "    print(next(g))"
   ]
  },
  {
   "cell_type": "markdown",
   "metadata": {},
   "source": [
    "Use your generator to write a function `triangles_under(n)` that prints out all triangle numbers strictly less than the parameter `n`."
   ]
  },
  {
   "cell_type": "code",
   "execution_count": null,
   "metadata": {},
   "outputs": [],
   "source": [
    "def triangles_under(n):\n",
    "    \"\"\"Print all triangle numbers less than an upper bound.\"\"\"\n",
    "    pass\n",
    "\n",
    "triangles_under(1000)"
   ]
  },
  {
   "cell_type": "markdown",
   "metadata": {},
   "source": [
    "## Functions in Data Structures (optional)\n",
    "\n",
    "Functions, as Python objects, can be stored inside data structures. As a consequence, we can do kooky things like implement a prime-generating function using an ever-growing collection of divisibility tests, with the `make_divisibility_test` function from lecture.\n",
    "\n",
    "```Python\n",
    "def make_divisibility_test(n):\n",
    "    def divisible_by_n(m):\n",
    "        return m % n == 0\n",
    "    return divisible_by_n\n",
    "\n",
    "def primes_under(n):\n",
    "    tests = []\n",
    "    for i in range(2, n):\n",
    "        if not any(map(lambda test: test(i), tests)):\n",
    "            tests.append(make_divisibility_test(i))\n",
    "            yield i\n",
    "```\n",
    "\n",
    "Take a moment to talk with a partner about what is even happening in this code block. \n",
    "\n",
    "How would you modify the code above to yield all composite numbers, rather than all prime numbers? Test your solution. What is the 1000th composite number?"
   ]
  },
  {
   "cell_type": "code",
   "execution_count": null,
   "metadata": {},
   "outputs": [],
   "source": [
    "def make_divisibility_test(n):\n",
    "    \"\"\"Return a divisibility test for n.\"\"\"\n",
    "    def divisible_by_n(m):\n",
    "        return m % n == 0\n",
    "    return divisible_by_n\n",
    "\n",
    "def primes_under(n):\n",
    "    \"\"\"Generate all primes under an upper bound.\"\"\"\n",
    "    tests = []\n",
    "    for i in range(2, n):\n",
    "        if not any(map(lambda test: test(i), tests)):\n",
    "            tests.append(make_divisibility_test(i))\n",
    "            yield i\n",
    "            \n",
    "def primes_under(n):\n",
    "    \"\"\"Generate all composites under an upper bound.\"\"\"\n",
    "    pass"
   ]
  },
  {
   "cell_type": "markdown",
   "metadata": {},
   "source": [
    "## Nested Functions and Closures\n",
    "\n",
    "In class, we saw that a function can be defined within the scope of another function. Recall from Week 3 that functions introduce new scopes via a new local symbol table. An inner function is only in scope inside of the outer function, so this type of function definition is usually only used when the inner function is being returned to the outside world.\n",
    "\n",
    "```Python\n",
    "def outer():\n",
    "    def inner(a):\n",
    "        return a\n",
    "    return inner\n",
    "\n",
    "f = outer()\n",
    "print(f)  # <function outer.<locals>.inner at 0x1044b61e0>\n",
    "print(f(10))  # => 10\n",
    "\n",
    "f2 = outer()\n",
    "print(f2)  # <function outer.<locals>.inner at 0x1044b6268> (Different from above!)\n",
    "print(f2(11))  # => 11\n",
    "```\n",
    "\n",
    "Why are the memory addresses different for `f` and `f2`? Discuss with a partner."
   ]
  },
  {
   "cell_type": "code",
   "execution_count": null,
   "metadata": {},
   "outputs": [],
   "source": [
    "def outer():\n",
    "    def inner(a):\n",
    "        return a\n",
    "    return inner\n",
    "\n",
    "f = outer()\n",
    "print(f)  # <function outer.<locals>.inner at 0x1044b61e0>\n",
    "print(f(10))  # => 10\n",
    "\n",
    "f2 = outer()\n",
    "print(f2)  # <function outer.<locals>.inner at 0x1044b6268> (Different from above!)\n",
    "print(f2(11))  # => 11"
   ]
  },
  {
   "cell_type": "markdown",
   "metadata": {},
   "source": [
    "### Closure\n",
    "As we saw above, the definition of the inner function occurs during the execution of the outer function. This implies that a nested function has access to the environment in which it was defined. Therefore, it is possible to return an inner function that remembers contents of the outer function, even after the outer function has completed execution. This model is referred to as a closure.\n",
    "\n",
    "```Python\n",
    "def make_adder(n):\n",
    "    def add_n(m):  # Captures the outer variable `n` in a closure\n",
    "        return m + n\n",
    "    return add_n\n",
    "\n",
    "add1 = make_adder(1)\n",
    "print(add1)  # <function make_adder.<locals>.add_n at 0x103edf8c8>\n",
    "add1(4)  # => 5\n",
    "add1(5)  # => 6\n",
    "\n",
    "add2 = make_adder(2)\n",
    "print(add2)  # <function make_adder.<locals>.add_n at 0x103ecbf28>\n",
    "add2(4)  # => 6\n",
    "add2(5)  # => 7\n",
    "```\n",
    "\n",
    "The information in a closure is available in the function's `__closure__` attribute. For example:\n",
    "\n",
    "```Python\n",
    "closure = add1.__closure__\n",
    "cell0 = closure[0]\n",
    "cell0.cell_contents  # => 1 (this is the n = 1 passed into make_adder)\n",
    "``` \n",
    "\n",
    "As another example, consider the function:\n",
    "\n",
    "```Python\n",
    "def foo(a, b, c=-1, *d, e=-2, f=-3, **g):\n",
    "    def wraps():\n",
    "        print(a, c, e, g)\n",
    "    return wraps\n",
    "``` \n",
    "\n",
    "The `print` call induces a closure of `wraps` over `a`, `c`, `e`, `g` from the enclosing scope of `foo`. Or, you can imagine that wraps \"knows\" that it will need `a`, `c`, `e`, and `g` from the enclosing scope, so at the time `wraps` is defined, Python takes a \"screenshot\" of these variables from the enclosing scope and stores references to the underlying objects in the `__closure__` attribute of the `wraps` function.\n",
    "\n",
    "```Python\n",
    "w = foo(1, 2, 3, 4, 5, e=6, f=7, y=2, z=3)\n",
    "list(map(lambda cell: cell.cell_contents, w.__closure__))\n",
    "# => [1, 3, 6, {'y': 2, 'z': 3}]\n",
    "```\n",
    "\n",
    "What happens in the following situation? Why?\n",
    "```Python\n",
    "def outer(l):\n",
    "    def inner(n):\n",
    "        return l * n\n",
    "    return inner\n",
    "    \n",
    "l = [1, 2, 3]\n",
    "f = outer(l)\n",
    "print(f(3))  # => ??\n",
    "\n",
    "l.append(4)\n",
    "print(f(3))  # => ??\n",
    "```"
   ]
  },
  {
   "cell_type": "code",
   "execution_count": null,
   "metadata": {},
   "outputs": [],
   "source": [
    "def outer(l):\n",
    "    def inner(n):\n",
    "        return l * n\n",
    "    return inner\n",
    "    \n",
    "l = [1, 2, 3]\n",
    "f = outer(l)\n",
    "print(f(3))  # => ??\n",
    "\n",
    "l.append(4)\n",
    "print(f(3))  # => ??"
   ]
  },
  {
   "cell_type": "markdown",
   "metadata": {},
   "source": [
    "## Building Decorators\n",
    "\n",
    "Recall that a decorator is a special type of function that accepts a function as an argument and returns a new function which (usually) wraps some of the behavior of the supplied function.\n",
    "\n",
    "Furthermore, recall that the `@decorator` syntax is syntactic sugar.\n",
    "\n",
    "```Python\n",
    "@decorator\n",
    "def fn():\n",
    "    pass\n",
    "```\n",
    "\n",
    "is equivalent to\n",
    "\n",
    "```Python\n",
    "def fn():\n",
    "    pass\n",
    "fn = decorator(fn)\n",
    "```\n"
   ]
  },
  {
   "cell_type": "markdown",
   "metadata": {},
   "source": [
    "### Review\n",
    "\n",
    "In lecture, we implemented the `debug` decorator.\n",
    "\n",
    "```Python\n",
    "def debug(function):\n",
    "    def wrapper(*args, **kwargs):\n",
    "        print(\"Arguments:\", args, kwargs)\n",
    "        return function(*args, **kwargs)\n",
    "    return wrapper\n",
    "```\n",
    "\n",
    "Take a moment, with a partner, and make sure you understand what is happening in the above lines. Why are the arguments to wrapper on the second line `*args` and `**kwargs` instead of something else? What would happen if we didn't `return wrapper` at the end of the function body?"
   ]
  },
  {
   "cell_type": "markdown",
   "metadata": {},
   "source": [
    "### Automatic Caching\n",
    "Write a decorator `cache` that will automatically cache any calls to the decorated function. You can assume that all arguments passed to the decorated function will always be hashable types.\n",
    "\n",
    "```Python\n",
    "def cache(function):\n",
    "    pass  # Your implementation here\n",
    "```\n",
    "\n",
    "In pseudocode, to accomplish this you will\n",
    "```\n",
    "take in some function f\n",
    "build a new function g: when called with some arguments...\n",
    "    if we have seen these arguments before:\n",
    "        return a saved result for these arguments\n",
    "    otherwise:\n",
    "        compute and return result of calling f with these arguments and save the result in some data structure\n",
    "return g\n",
    "```\n",
    "\n",
    "For example, you should be able to use this decorator as follows:\n",
    "\n",
    "```Python\n",
    "@cache\n",
    "def fib(n):\n",
    "    return fib(n-1) + fib(n-2) if n > 2 else 1\n",
    "\n",
    "fib(10)  # 55 (takes a moment to execute)\n",
    "fib(10)  # 55 (returns immediately)\n",
    "fib(100) # doesn't take forever\n",
    "fib(400) # doesn't raise RuntimeError\n",
    "```\n",
    "\n",
    "Hint: You can set arbitrary attributes on a function (e.g. `fn._cache`). When you do so, the attribute-value pair also gets inserted into `fn.__dict__`. Take a look for yourself. Are the extra attributes and `.__dict__` always in sync?"
   ]
  },
  {
   "cell_type": "markdown",
   "metadata": {},
   "source": [
    "#### Cache Options (Challenge)\n",
    "\n",
    "Add `maxsize` and `eviction_policy` keyword arguments, with reasonable defaults (perhaps `maxsize=None` as a sentinel), to your `cache` decorator. `eviction_policy` should be one of `'LRU'`, `'MRU'`, or `'random'`. It can be tricky to figure out how to construct a decorator with arguments.\n",
    "\n",
    "Also, add function attributes called `.cache_info` and `.cache_clear` which can be called to get aggregate statistics about the cache  and clear the cache, respectively.\n",
    "\n",
    "#### Note\n",
    "This caching decorator (with arguments!) is actually implemented as part of the language in `functools.lru_cache`"
   ]
  },
  {
   "cell_type": "markdown",
   "metadata": {},
   "source": [
    "### Better Debugging Decorator\n",
    "The `debug` decorator we wrote in class isn't very good. It doesn't tell us which function is being called, and it just dumps a tuple of positional arguments and a dictionary of keyword arguments - it doesn't even know what the names of the positional arguments are! If the default arguments aren't overridden, it won't show us their value either.\n",
    "\n",
    "Use function attributes to improve our `debug` decorator into a `print_args` decorator that is \"as good as you can make it.\"\n",
    "\n",
    "```Python\n",
    "def print_args(function):\n",
    "    def wrapper(*args, **kwargs):\n",
    "        # (1) You could do something here\n",
    "        retval = function(*args, **kwargs)\n",
    "        # (2) You could also do something here\n",
    "        return retval\n",
    "    return wrapper\n",
    "```\n",
    "\n",
    "*Hint: Consider using the attributes `fn.__name__` and `fn.__code__`. You'll have to investigate these attributes, but I will say that the `fn.__code__` code object contains a number of useful attributes - for instance, `fn.__code__.co_varnames`. Check it out! More information on function attributes is available in the latter half of Lab 3.*\n",
    "\n",
    "#### Note\n",
    "There are a lot of subtleties to this function, since functions can be called in a number of different ways. How does your `print_args` handle keyword arguments or even keyword-only arguments? Variadic positional arguments? Variadic keyword arguments? For more customization, look at `fn.__defaults__`, `fn.__kwdefaults__`, as well as other attributes of `fn.__code__`."
   ]
  },
  {
   "cell_type": "markdown",
   "metadata": {},
   "source": [
    "### Dynamic Type Checker (challenge)\n",
    "\n",
    "Functions in Python can be optionally annotated by semantically-useless but structurally-valuable type annotations. For example:\n",
    "\n",
    "```Python\n",
    "def foo(a: int, b: str) -> bool:\n",
    "    return b[a] == 'X'\n",
    "\n",
    "foo.__annotations__  # => {'a': int, 'b': str, 'return': bool}\n",
    "```\n",
    "\n",
    "Write a runtime type checker, implemented as a decorator, that enforces that the types of arguments and the return value are valid.\n",
    "\n",
    "```Python\n",
    "def enforce_types(function):\n",
    "    pass  # Your implementation here\n",
    "```\n",
    "\n",
    "For example:\n",
    "\n",
    "```Python\n",
    "@enforce_types\n",
    "def foo(a: int, b: str) -> bool:\n",
    "    if a == -1:\n",
    "        return 'Gotcha!'\n",
    "    return b[a] == 'X'\n",
    "\n",
    "foo(3, 'abcXde')  # => True\n",
    "foo(2, 'python')  # => False\n",
    "foo(1, 4)  # prints \"Invalid argument type for b: expected str, received int\n",
    "foo(-1, '')  # prints \"Invalid return type: expected bool, received str\n",
    "```\n",
    "\n",
    "There are lots of nuances to this function. What happens if some annotations are missing? How are keyword arguments and variadic arguments handled? What happens if the expected type of a parameter is not a primitive type? Can you annotate a function to describe that a parameter should be a list of strings? A tuple of (str, bool) pairs? A dictionary mapping strings to lists of integers? Read more about [advanced type hints](https://docs.python.org/3/library/typing.html) from the documentation.\n",
    "\n",
    "As you make progress, show your decorator to a member of the course staff. "
   ]
  },
  {
   "cell_type": "markdown",
   "metadata": {},
   "source": [
    "#### Bonus: Optional Severity Argument\n",
    "*Warning! This extension is very hard*\n",
    "\n",
    "Extend the `enforce_types` decorator to accept a keyword argument `severity` which modifies the extent of the enforcement. If `severity == 0`, disable type checking. If `severity == 1` (which is the default), just print a message if there are any type violations. If `severity == 2`, raise a TypeError if there are any type violations.\n",
    "\n",
    "For example:\n",
    "\n",
    "```Python\n",
    "@enforce_types_challenge(severity=2)\n",
    "def bar(a: list, b: str) -> int:\n",
    "    return 0\n",
    "\n",
    "@enforce_types_challenge()  # Why are there parentheses here?\n",
    "def baz(a: bool, b: str) -> str:\n",
    "    return ''\n",
    "```"
   ]
  },
  {
   "cell_type": "markdown",
   "metadata": {},
   "source": [
    "## Credit\n",
    "Credit goes to a lot of websites, whose names I've unfortunately forgotten along the way. Credit to everyone!"
   ]
  },
  {
   "cell_type": "markdown",
   "metadata": {},
   "source": [
    "> With <3 by @sredmond"
   ]
  }
 ],
 "metadata": {
  "kernelspec": {
   "display_name": "Python 3",
   "language": "python",
   "name": "python3"
  },
  "language_info": {
   "codemirror_mode": {
    "name": "ipython",
    "version": 3
   },
   "file_extension": ".py",
   "mimetype": "text/x-python",
   "name": "python",
   "nbconvert_exporter": "python",
   "pygments_lexer": "ipython3",
   "version": "3.7.2"
  }
 },
 "nbformat": 4,
 "nbformat_minor": 2
}
